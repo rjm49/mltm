{
 "cells": [
  {
   "cell_type": "code",
   "execution_count": 1,
   "metadata": {},
   "outputs": [
    {
     "name": "stderr",
     "output_type": "stream",
     "text": [
      "Using TensorFlow backend.\n"
     ]
    },
    {
     "name": "stdout",
     "output_type": "stream",
     "text": [
      "started\n"
     ]
    }
   ],
   "source": [
    "%load_ext autoreload\n",
    "%autoreload 2\n",
    "\n",
    "import gc\n",
    "import os\n",
    "import pickle\n",
    "from collections import Counter, defaultdict\n",
    "\n",
    "import numpy\n",
    "import pandas\n",
    "from math import exp, sqrt, log\n",
    "\n",
    "from keras.models import load_model\n",
    "from keras import Input, Model\n",
    "from keras.layers import Lambda, subtract, concatenate\n",
    "from keras.callbacks import EarlyStopping\n",
    "\n",
    "from sklearn.externals import joblib\n",
    "\n",
    "from importlib import reload\n",
    "from matplotlib import pyplot as plt\n",
    "from random import random, shuffle, choice, randint\n",
    "\n",
    "# from classes import Student, Question\n",
    "# from utils import generate_student_name, create_qs, create_students, generate_attempts, calculate_pass_probability, attempt_q\n",
    "\n",
    "import random\n",
    "import math\n",
    "import scipy\n",
    "\n",
    "from NN_utils import BigTable, WeightClip\n",
    "\n",
    "print(\"started\")\n",
    "\n",
    "from scipy.optimize import curve_fit\n",
    "def gompertz(x, A,k1,k2,off):\n",
    "    return A*numpy.exp(-k1*numpy.exp(-k2*(x-off)))\n",
    "\n",
    "def inv_gompertz(y, A,k1,k2,off):\n",
    "    return off + numpy.log(k1/numpy.log(A/y))/k2\n",
    "\n",
    "def logistic(x, b,off):\n",
    "    z = b*(x-off)\n",
    "    return numpy.exp(z)/(1+numpy.exp(z))\n",
    "\n",
    "# p = 1/(1+e(-x))\n",
    "# 1+e(-x) = 1/p\n",
    "# e(-x) = (1/p)-1\n",
    "# x = -log((1/p)-1)\n",
    "\n",
    "def inv_logistic(pr, b,off):\n",
    "    return off-(numpy.log((1/pr) -1))/b\n",
    "\n",
    "sigmoid = lambda z: 1/(1+(numpy.exp(-z)))\n",
    "def pr(a,d): return sigmoid((a-d))\n",
    "def pr_to_spread(p, comps=1, as_A_and_D=True):\n",
    "    per_comp_p = p**(1/comps)\n",
    "#     print(\"p         \", p)\n",
    "#     print(\"per comp p\", per_comp_p)\n",
    "#     spread = -numpy.log((1.0/per_comp_p)-1.0)\n",
    "    inv_sigmoid = lambda pr : ( -numpy.log((1/pr) -1) )\n",
    "    spread = inv_sigmoid(per_comp_p)\n",
    "#     print(\"spread    \", spread)\n",
    "    if as_A_and_D:\n",
    "        a = spread/2.0\n",
    "        d = -spread/2.0\n",
    "        return a,d\n",
    "    else:\n",
    "        return spread\n",
    "\n",
    "def spread_to_pr(sp, comps=1):\n",
    "    return numpy.power((1/(1+numpy.exp(-sp))), comps)"
   ]
  },
  {
   "cell_type": "code",
   "execution_count": 49,
   "metadata": {},
   "outputs": [],
   "source": [
    "from numpy.random import uniform, random_integers\n",
    "from scipy.stats import truncnorm\n",
    "\n",
    "def gen_students(n_students, a0, a1, n_factors, gen_mode=\"truncnorm\"):\n",
    "    students = numpy.zeros((n_students, n_factors))\n",
    "    for six in range(n_students):\n",
    "        true_comps = numpy.random.normal(a0, a1, size=n_factors)#+0.2#+2#+1.2\n",
    "        for cix,c in zip(range(n_factors), true_comps):\n",
    "            students[six,cix] = c\n",
    "    return students\n",
    "\n",
    "def gen_questions(n_questions, a0, a1, min_active_traits, max_active_traits, gen_mode=\"truncnorm\", test_w=None):\n",
    "    #approximate the min and max outputs from the gaussian\n",
    "    boost = 4\n",
    "    inv_fn = spread_to_pr\n",
    "    av_c = (min_active_traits + max_active_traits)/2\n",
    "    p = numpy.linspace(0.001,0.999,30)\n",
    "    sprd = pr_to_spread(p, av_c, as_A_and_D=False)\n",
    "    p2 = spread_to_pr(sprd, av_c)\n",
    "    d50 = pr_to_spread(.5, av_c, as_A_and_D=False)\n",
    "#     d99 = pr_to_spread(.999, av_c, as_A_and_D=False)\n",
    "#     d00 = pr_to_spread(.001, av_c, as_A_and_D=False)\n",
    "#     print(\"dvals\", d00, d50, d99)\n",
    "    print(\"inv_logistic curve\")\n",
    "    plt.scatter(sprd,p)\n",
    "    plt.plot(sprd,p2)\n",
    "    plt.show()\n",
    "#     print(\"tru spread d50=\",d50, \"(prob={})\".format(spread_to_pr(d50, av_c)))\n",
    "    \n",
    "    minval = math.inf\n",
    "    \n",
    "    questions = numpy.zeros((n_questions, n_factors))\n",
    "    questions = questions - 5\n",
    "    for qix in range(n_questions):\n",
    "        n_comps = random_integers(min_active_traits, max_active_traits)\n",
    "        comp_ixs = numpy.random.choice(range(n_factors), size=n_comps, replace=False)\n",
    "                \n",
    "        if test_w:\n",
    "            minb=-(test_w/2) - d50\n",
    "            maxb=(test_w/2) - d50\n",
    "        else:\n",
    "            minb=0\n",
    "            maxb=4\n",
    "        true_comps = numpy.random.uniform(minb, maxb, size=n_comps)\n",
    "\n",
    "        minval = 0\n",
    "\n",
    "        for cix,c in zip(comp_ixs,true_comps):\n",
    "            questions[qix,cix] = c#+boost\n",
    "            \n",
    "    return questions, minval\n",
    "\n",
    "# minb,maxb,mina,maxa =(1.0, 11, 6, 11)\n",
    "def gen_run(n_traits, a0, a1, min_active_traits, max_active_traits, s_gen=\"uniform\", q_gen=\"uniform\", test_w=None):\n",
    "    questions, offset = gen_questions(n_questions, a0, a1, min_active_traits, max_active_traits, gen_mode=q_gen, test_w=test_w)\n",
    "    students = gen_students(n_students, 0, a1, n_factors, gen_mode=s_gen)\n",
    "\n",
    "#     questions[questions>0] = questions[questions>0] - offset+1\n",
    "#     students = students - offset+1\n",
    "#     students = students\n",
    "\n",
    "    obs = numpy.zeros((len(students), len(questions)))\n",
    "    probs = numpy.zeros((len(students), len(questions)))\n",
    "    #obs = numpy.matmul(viewers, movies.T)/n_factors\n",
    "    vz = []\n",
    "    mz = []\n",
    "    scz =[]\n",
    "    for vi in range(len(students)):\n",
    "        for mi in range(len(questions)):\n",
    "#             zmask = (questions[mi] < 0.001).astype(int)\n",
    "            diffs = students[vi]-questions[mi]\n",
    "            prs = logistic(diffs,1,0)\n",
    "#             prs = numpy.maximum(zmask,prs)\n",
    "\n",
    "#             print(vi,mi)\n",
    "#             print(\"S\", students[vi])\n",
    "#             print(\"Q\", questions[mi])\n",
    "#             print(\"Z\", zmask)\n",
    "#             print(\"D\", deltas)\n",
    "#             print(\"p\", prs)\n",
    "#             print(\"P\", numpy.prod(prs))\n",
    "            pr = numpy.prod(prs)\n",
    "            obs[vi,mi] = (random.random() < pr)\n",
    "            probs[vi,mi] = pr\n",
    "#             print(vi,mi, numpy.prod(prs))\n",
    "    return obs, probs, students, questions\n",
    "\n",
    "from keras.regularizers import l1\n",
    "from keras.layers import Dropout, multiply, subtract, GaussianNoise, GaussianDropout\n",
    "from keras import backend as K\n",
    "from keras.optimizers import Adam\n",
    "# def generate_qs_model(qn_table, psi_table, optimiser, comp_lims=True, q_train=True, s_train=True):\n",
    "#     psi_sel = Input(shape=(1,), name=\"psi_select\", dtype=\"int32\")\n",
    "#     qn_sel = Input(shape=(1,), name=\"q_select\", dtype=\"int32\")\n",
    "# #     ob = Input(shape=(1,), name=\"observation\")\n",
    "#     print(qn_table, psi_table, psi_sel, qn_sel)\n",
    "#     print(\"psi_sel shape\", psi_sel.shape)\n",
    "\n",
    "#     psi_table.trainable=s_train\n",
    "#     qn_table.trainable=q_train\n",
    "    \n",
    "#     qn_row = qn_table(qn_sel)\n",
    "#     klip = Lambda(lambda q: K.clip(q,0,0.001))\n",
    "#     q_masque = klip(qn_row)\n",
    "    \n",
    "# #     qn_row = GaussianNoise(.5)(qn_row)\n",
    "#     psi_row = psi_table(psi_sel)\n",
    "# #     psi_row = GaussianNoise(0.5)(psi_row)\n",
    "    \n",
    "#     difs = subtract([psi_row, qn_row])\n",
    "\n",
    "    \n",
    "#     Prs = Lambda(lambda z: (1.0 / (1.0 + K.exp(-z))), name=\"Pr_sigmoid1\")(difs)\n",
    "#     Prs = Lambda(lambda ps_q:  ps_q[0]*1000*ps_q[1] + (1-1000*ps_q[1]) ) ([Prs, q_masque])\n",
    "# #     Prs = Lambda(lambda ps_q:  K.pow(ps_q[0], ps_q[1]) ) ([Prs, q_masque])\n",
    "#     score = Lambda(lambda ps: K.prod(ps, keepdims=True, axis=1), name=\"score\")(Prs)\n",
    "        \n",
    "# # score = Lambda(lambda ps: K.prod(ps, axis=1, keepdims=True), name=\"score\")(Prs)\n",
    "# #     score = Prs\n",
    "    \n",
    "# #     L_2a = Lambda(lambda w: K.mean(K.abs(K.zeros_like(w)-w)))\n",
    "# #     mag_loss = (L_2a(qn_table.kernel) + sumstack)\n",
    "    \n",
    "# #     five_limit = Lambda(lambda w: K.mean(K.clip(K.sum(K.clip(w,0,1), axis=1),5,math.inf)-5))\n",
    "# #     one_limit = Lambda(lambda w: K.mean(1-K.clip(K.max(w,axis=1),0,1)))\n",
    "    \n",
    "# #     L_2 = Lambda(lambda w: K.mean(K.square(w - 6 )))\n",
    "# #     mag_loss = L_2(psi_table.kernel)\n",
    "    \n",
    "# #     shift_loss = Lambda(lambda k: K.mean(k))(psi_table.kernel)\n",
    "    \n",
    "# #     five_loss = five_limit(qn_table.kernel)\n",
    "# #     one_loss = one_limit(qn_table.kernel)\n",
    "# # #     mag_loss = L_2a(qn_table.kernel) + five_limit(qn_table.kernel) + one_limit(qn_table.kernel)*5\n",
    "# #     mag_loss = L_2a(qn_table.kernel) #+ five_loss + one_loss\n",
    "# # #     mag_loss = L_2(qn_row)\n",
    "    \n",
    "# #     def ident_loss(outer):\n",
    "# #         def inner(t,h):\n",
    "# #             return outer\n",
    "# #         return inner\n",
    "\n",
    "# #     def custom_loss(mag_loss):\n",
    "# #         def orig_loss(yt,yh):\n",
    "# # #             return K.binary_crossentropy(yt,yh) + mag_loss/100000 #+mag_loss # (reg_loss+mag_loss)/2\n",
    "# # #             if comp_lims:\n",
    "# #             return K.mean(K.square(yt-yh)) + mag_loss #+mag_loss # (reg_loss+mag_loss)/2\n",
    "# # #                 return K.binary_crossentropy(yt,yh)\n",
    "# # #             else:\n",
    "# # # #                 return K.mean(K.square(yt-yh))\n",
    "# # #                 return K.binary_crossentropy(yt,yh)\n",
    "# #         return orig_loss\n",
    "    \n",
    "#     model = Model(inputs=[qn_sel, psi_sel], outputs=score)\n",
    "# #     model.compile(optimizer=optimiser, loss=\"binary_crossentropy\", metrics=[\"accuracy\"])\n",
    "# #     if comp_lims:\n",
    "# #     model.compile(optimizer=optimiser, loss=custom_loss(mag_loss), metrics=[\"accuracy\"])# metrics=[ident_loss(five_loss), ident_loss(one_loss),\"accuracy\"])\n",
    "# #     else:\n",
    "#     model.compile(optimizer=optimiser, loss=\"mse\", metrics=[\"accuracy\"])\n",
    "#     print(model.summary())\n",
    "#     return model\n",
    "\n",
    "\n",
    "\n",
    "# def generate_emb_model(qn_emb, psi_emb, optimiser, comp_lims=True, q_train=True, s_train=True):\n",
    "#     psi_sel = Input(shape=(1,), name=\"psi_select\", dtype=\"int32\")\n",
    "#     qn_sel = Input(shape=(1,), name=\"q_select\", dtype=\"int32\")\n",
    "#     qn_row = qn_emb(qn_sel)\n",
    "#     psi_row = psi_emb(psi_sel)\n",
    "# #     q_masque = q_gates(qn_sel)\n",
    "    \n",
    "# #     klip = Lambda(lambda q: K.clip(q,0,1e-3))\n",
    "# #     q_masque = klip(qn_row)\n",
    "#     difs = subtract([psi_row, qn_row])\n",
    "#     Prs = Lambda(lambda z: (1.0 / (1.0 + K.exp(-z))), name=\"Pr_sigmoid1\")(difs)\n",
    "# #     Prs = Lambda(lambda ps_q:  ps_q[0]*1e3*ps_q[1] + (1-1e3*ps_q[1]) ) ([Prs, q_masque])\n",
    "# #     Prs = Lambda(lambda ps_q:  K.pow(ps_q[0],ps_q[1])) ([Prs, q_masque])\n",
    "#     score = Lambda(lambda ps: K.prod(ps, keepdims=False, axis=2), name=\"score\")(Prs)\n",
    "\n",
    "#     model = Model(inputs=[qn_sel, psi_sel], outputs=score)\n",
    "# #     model.compile(optimizer=optimiser, loss=\"binary_crossentropy\", metrics=[\"accuracy\"])\n",
    "# #     if comp_lims:\n",
    "#     model.compile(optimizer=optimiser, loss=\"mse\", metrics=[\"accuracy\"])# metrics=[ident_loss(five_loss), ident_loss(one_loss),\"accuracy\"])\n",
    "# #     else:\n",
    "# #     model.compile(optimizer=optimiser, loss=\"mse\", metrics=[\"accuracy\"])\n",
    "#     print(model.summary())\n",
    "#     return model\n",
    "\n",
    "\n",
    "\n",
    "\n",
    "\n",
    "\n",
    "def check_object_invariance(students, questions, probs):\n",
    "    all_ok = True\n",
    "    false_ixs = []\n",
    "    for six,srow in enumerate(students):\n",
    "        for iix, qrow1 in enumerate(questions):\n",
    "            for jix, qrow2 in enumerate(questions):\n",
    "                spd_si = srow - qrow1\n",
    "                spd_sj = srow - qrow2\n",
    "                p_si_1 = probs[six,iix] #logistic(spd_si, 1,0)\n",
    "                p_si_0 = (1 - p_si_1)\n",
    "                p_sj_1 = probs[six,jix] #logistic(spd_sj, 1,0)\n",
    "                p_sj_0 = (1 - p_sj_1)\n",
    "#                 print(round(float((p_si_1 * p_sj_0)/(p_si_0 * p_sj_1)),5),\"=?\",round(math.exp(qrow2 - qrow1),5))\n",
    "                istrue = (numpy.isclose((p_si_1 * p_sj_0)/float(p_si_0 * p_sj_1), math.exp(qrow2 - qrow1)))\n",
    "#                 print(istrue)\n",
    "                if not istrue:\n",
    "                    all_ok=False\n",
    "                    false_ixs.append((srow, qrow1, qrow2))\n",
    "    return all_ok, false_ixs\n",
    "# all_ok, fixs = check_object_invariance(students, questions, probz)\n",
    "# print(all_ok)\n",
    "# print(fixs)\n",
    "\n",
    "def varinfo(X,Y):\n",
    "    \"\"\"X : set of sets representing partition 1\n",
    "       Y : set of sets representing partition 2\n",
    "    \"\"\"\n",
    "    VI = 0\n",
    "    n = len(numpy.array(X).flatten())\n",
    "    m = len(numpy.array(Y).flatten())\n",
    "    if n!=m:\n",
    "        raise ValueError(\"Size of set X does not match size of Y\")\n",
    "    for Xi in X:\n",
    "        for Yj in Y:\n",
    "            r_ij = len(set(Xi).intersection(Yj))/n\n",
    "            if r_ij >0:\n",
    "                p_i = len(Xi)/n\n",
    "                q_j = len(Yj)/n\n",
    "#                 print(p_i, q_j, r_ij)\n",
    "#             {\\displaystyle \\mathrm {VI} (X;Y)=-\\sum _{i,j}r_{ij}\\left[\\log(r_{ij}/p_{i})+\\log(r_{ij}/q_{j})\\right]}.\n",
    "#                 print(\"log1\",numpy.log(r_ij/p_i),\"log2\", numpy.log(r_ij/q_j))\n",
    "                VI += r_ij*(numpy.log(r_ij/p_i) + numpy.log(r_ij/q_j))\n",
    "#                 print(\"VI subtot\", VI)\n",
    "    VI = -VI\n",
    "    return VI"
   ]
  },
  {
   "cell_type": "code",
   "execution_count": 3,
   "metadata": {},
   "outputs": [],
   "source": [
    "from keras.regularizers import l1\n",
    "from keras.layers import Dropout, multiply, subtract, GaussianNoise, GaussianDropout\n",
    "from keras import backend as K\n",
    "from keras.optimizers import Adam\n",
    "def generate_bayesian_model(qn_table, psi_table, optimiser, comp_lims=True):\n",
    "    psi_sel = Input(shape=(1,), name=\"psi_select\", dtype=\"int32\")\n",
    "    qn_sel = Input(shape=(1,), name=\"q_select\", dtype=\"int32\")\n",
    "    print(qn_table, psi_table, psi_sel, qn_sel)\n",
    "    print(\"psi_sel shape\", psi_sel.shape)\n",
    "\n",
    "    psi_table.trainable=True\n",
    "    qn_table.trainable=True\n",
    "    \n",
    "    psi_row = psi_table(psi_sel)\n",
    "    qn_row = qn_table(qn_sel)\n",
    "\n",
    "#     klip = Lambda(lambda q: K.clip(q,0,1))\n",
    "#     q_masque = klip(qn_row)\n",
    "\n",
    "    Prs = Lambda(lambda sq: (1-sq[1])+(sq[1]*sq[0]), name=\"bayes_step\")([psi_row, qn_row])\n",
    "    score = Lambda(lambda ps: K.prod(ps, axis=1, keepdims=True), name=\"score\")(Prs)\n",
    "    \n",
    "    model = Model(inputs=[qn_sel, psi_sel], outputs=score)\n",
    "    model.compile(optimizer=optimiser, loss=\"binary_crossentropy\", metrics=[\"accuracy\"])\n",
    "#     model.compile(optimizer=optimiser, loss=custom_loss(mag_loss), metrics=[ident_loss(five_loss), ident_loss(one_loss),\"accuracy\"])\n",
    "\n",
    "    print(model.summary())\n",
    "\n",
    "    return model"
   ]
  },
  {
   "cell_type": "code",
   "execution_count": 1,
   "metadata": {},
   "outputs": [
    {
     "name": "stderr",
     "output_type": "stream",
     "text": [
      "Using TensorFlow backend.\n"
     ]
    }
   ],
   "source": [
    "from keras.regularizers import l1\n",
    "from keras.layers import Dropout, multiply, subtract, GaussianNoise, GaussianDropout\n",
    "from keras import backend as K\n",
    "from keras.optimizers import Adam\n",
    "def generate_qs_model(qn_table, psi_table, optimiser, comp_lims=True, test_av=0):\n",
    "    \n",
    "    psi_sel = Input(shape=(1,), name=\"psi_select\", dtype=\"int32\")\n",
    "    qn_sel = Input(shape=(1,), name=\"q_select\", dtype=\"int32\")\n",
    "    print(qn_table, psi_table, psi_sel, qn_sel)\n",
    "    print(\"psi_sel shape\", psi_sel.shape)\n",
    "\n",
    "    psi_table.trainable=True\n",
    "    qn_table.trainable=True\n",
    "    \n",
    "    psi_row = psi_table(psi_sel)\n",
    "    qn_row = qn_table(qn_sel)\n",
    "    \n",
    "#     shift_loss = Lambda(lambda q : K.square(K.mean(q)- 5) )(qn_row)\n",
    "\n",
    "    klip = Lambda(lambda qk: K.clip(qk,0, .1))\n",
    "    q_masque = klip(qn_row)\n",
    "\n",
    "#     qn_row = GaussianNoise(.5)(qn_row)\n",
    "#     psi_row = GaussianNoise(0.5)(psi_row)\n",
    "#     prds = multiply([qn_row, psi_row])\n",
    "    difs = subtract([psi_row, qn_row])\n",
    "#     score = Lambda(lambda ps: K.sum(ps, axis=1, keepdims=True)/n_factors, name=\"score\")(prds)\n",
    "    Prs = Lambda(lambda z: (K.exp(z) / (1.0 + K.exp(z))), name=\"Pr_sigmoid1\")(difs)\n",
    "#     Prs = Lambda(lambda ps_q:  ps_q[0]*10*ps_q[1] + (1.0-10*ps_q[1]) ) ([Prs, q_masque])\n",
    "#     Prs = Lambda(lambda ps_q:  K.pow(ps_q[0], 100*ps_q[1]) ) ([Prs, q_masque])\n",
    "\n",
    "    score = Lambda(lambda ps: K.prod(ps, axis=1, keepdims=True), name=\"score\")(Prs)\n",
    "    \n",
    "    l2 = Lambda(lambda t: K.sum(K.square(t - 0)))(qn_table.kernel)\n",
    "    \n",
    "#     L_2a = Lambda(lambda w: K.mean(K.abs(K.zeros_like(w)-w)))\n",
    "#     mag_loss = (L_2a(qn_table.kernel) + sumstack)\n",
    "    \n",
    "#     five_limit = Lambda(lambda w: K.mean(K.clip(K.sum(K.clip(w,0,1), axis=1),5,math.inf)))\n",
    "#     one_limit = Lambda(lambda w: K.mean(1-K.clip(K.max(w,axis=1),0,1)))\n",
    "    \n",
    "#     five_loss = 10*five_limit(qn_row)#(qn_table.kernel)\n",
    "#     one_loss = one_limit(qn_row)#(qn_table.kernel)\n",
    "#     mag_loss = L_2a(qn_table.kernel) #+ five_limit(qn_table.kernel) + one_limit(qn_table.kernel)*5\n",
    "#     mag_loss = five_loss + one_loss\n",
    "#     mag_loss = L_2(qn_row)\n",
    "    \n",
    "#     def ident_loss(outer):\n",
    "#         def inner(t,h):\n",
    "#             return outer\n",
    "#         return inner\n",
    "      \n",
    "    def custom_loss(aux_loss):\n",
    "        def orig_loss(yt,yh):\n",
    "            return K.binary_crossentropy(yt,yh) + aux_loss #+mag_loss # (reg_loss+mag_loss)/2\n",
    "#             return K.mean(K.square(yt-yh)) + aux_loss#/10000 #+mag_loss # (reg_loss+mag_loss)/2\n",
    "        return orig_loss\n",
    "    \n",
    "    model = Model(inputs=[qn_sel, psi_sel], outputs=score)\n",
    "    model.compile(optimizer=optimiser, loss=\"binary_crossentropy\", metrics=[\"accuracy\"])\n",
    "#     model.compile(optimizer=optimiser, loss=custom_loss(shift_loss), metrics=[\"accuracy\"])\n",
    "\n",
    "    print(model.summary())\n",
    "\n",
    "    return model"
   ]
  },
  {
   "cell_type": "code",
   "execution_count": 5,
   "metadata": {},
   "outputs": [],
   "source": [
    "# def generate_params(max_active, min_active):    \n",
    "#     s_avg_intel = numpy.random.uniform(-1, 1, size=1) \n",
    "#     q_av_c = (min_active + max_active)/2\n",
    "#     cprod_offset = pr_to_spread(0.5, comps=q_av_c, as_A_and_D=False)\n",
    "#     s_sd = numpy.random.uniform(0.1, .66)\n",
    "    \n",
    "# #     s_avg_intel = numpy.random.uniform(0, 3, size=1)  \n",
    "# #     s_approx_min = s_avg_intel - 3*s_sd        \n",
    "#     a0 = s_avg_intel + cprod_offset\n",
    "        \n",
    "# #     test_w = numpy.random.uniform(0.5, 4)\n",
    "# #     test_centre = q_active_min + test_w/2\n",
    "# #     print(\"base\",base)\n",
    "# #     a0 = offset + base\n",
    "#     test_w = 1 #numpy.random.uniform(0.5, 4)\n",
    "#     return s_sd,a0,q_av_c,cprod_offset,test_w\n",
    "\n",
    "def generate_params(max_active, min_active):    \n",
    "    s_avg_intel = 0\n",
    "#     s_avg_intel = numpy.random.uniform(-2, 2, size=1)  \n",
    "    q_av_c = (min_active + max_active)/2\n",
    "    cprod_offset = pr_to_spread(0.5, comps=q_av_c, as_A_and_D=False)\n",
    "    s_sd = 1\n",
    "    \n",
    "#     s_approx_min = s_avg_intel - 3*s_sd        \n",
    "    a0 = s_avg_intel + cprod_offset\n",
    "        \n",
    "#     test_w = numpy.random.uniform(0.5, 4)\n",
    "#     test_centre = q_active_min + test_w/2\n",
    "#     print(\"base\",base)\n",
    "#     a0 = offset + base\n",
    "    test_w = 2.5 \n",
    "#     test_w = numpy.random.uniform(0.5, 4)\n",
    "    return s_sd,a0,q_av_c,cprod_offset,test_w"
   ]
  },
  {
   "cell_type": "code",
   "execution_count": 6,
   "metadata": {},
   "outputs": [
    {
     "name": "stdout",
     "output_type": "stream",
     "text": [
      "inv_logistic curve\n"
     ]
    },
    {
     "data": {
      "image/png": "[encoded data removed]",
      "text/plain": [
       "<matplotlib.figure.Figure at 0x7f6ced1a7748>"
      ]
     },
     "metadata": {},
     "output_type": "display_data"
    },
    {
     "name": "stderr",
     "output_type": "stream",
     "text": [
      "/home/rjm49/.venvs/isaac/lib/python3.6/site-packages/ipykernel_launcher.py:35: DeprecationWarning: This function is deprecated. Please call randint(1, 2 + 1) instead\n"
     ]
    },
    {
     "data": {
      "image/png": "[encoded data removed]",
      "text/plain": [
       "<matplotlib.figure.Figure at 0x7f6cd34170f0>"
      ]
     },
     "metadata": {},
     "output_type": "display_data"
    },
    {
     "data": {
      "image/png": "[encoded data removed]",
      "text/plain": [
       "<matplotlib.figure.Figure at 0x7f6cd3417438>"
      ]
     },
     "metadata": {},
     "output_type": "display_data"
    },
    {
     "name": "stdout",
     "output_type": "stream",
     "text": [
      "(1000, 100)\n",
      "1000 100\n",
      "100000 52929.0\n",
      "0.52929\n",
      "[ 0.04532561  0.04046385  0.03225633 ...,  0.04435071  0.04419017\n",
      "  0.04570787]\n",
      "--- -\n",
      "[ 0.95040404  0.96624788  0.95157434 ...,  0.95900059  0.96144861\n",
      "  0.95693222]\n"
     ]
    }
   ],
   "source": [
    "# n_factors, a0, a1, min_active, max_active = (5, 9, 1, 1, 3)\n",
    "# n_factors, a0, a1, min_active, max_active = (100, 0, 1, 1, 5)\n",
    "# n_factors, a0, a1, min_active, max_active = (1, 0, 0.33, 1, 1)\n",
    "# n_students = 100\n",
    "# n_questions = 25\n",
    "\n",
    "n_factors, min_active, max_active = (2,1,2)\n",
    "n_students, n_questions, a0, a1, offset, test_w =(1000, 100, 0.8110750422323121, 1.1967074599870124, 0.53204746933021974, 2.6389781733222257)\n",
    "\n",
    "# n_factors, min_active, max_active = (10, 1, 5)\n",
    "# n_students, n_questions, a0, a1, offset, test_w =(1000, 100, 1.0451284704587152, 1.4855458602659655, 0.53204746933021974, 2.0764586353304395)\n",
    "\n",
    "# res =gen_run(n_factors, n_students, n_questions, a0, sda, min_active, max_active, None,None)\n",
    "obs, probz, students, questions  = gen_run(n_factors, a0, a1, min_active, max_active, s_gen=\"truncnorm\", q_gen=\"u_uniform\", test_w = test_w)\n",
    "# print(len(res))\n",
    "\n",
    "plt.hist(students.flatten(), alpha=0.5)\n",
    "# plt.show()\n",
    "plt.hist(questions.flatten(), alpha=0.5)\n",
    "plt.show()\n",
    "# print(numpy.mean(questions[questions>0]))\n",
    "\n",
    "plt.hist(probz.flatten(), bins=20)\n",
    "\n",
    "plt.show()\n",
    "\n",
    "print(probz.shape)\n",
    "print(len(students), len(questions))\n",
    "\n",
    "print(len(obs.flatten()), sum(obs.flatten()))\n",
    "print(sum(obs.flatten())/len(obs.flatten()))\n",
    "\n",
    "print(probz[probz<0.05])\n",
    "print(\"--- -\")\n",
    "print(probz[probz>0.95])\n",
    "\n"
   ]
  },
  {
   "cell_type": "code",
   "execution_count": 7,
   "metadata": {},
   "outputs": [
    {
     "name": "stdout",
     "output_type": "stream",
     "text": [
      "0.53204746933 1\n",
      "inv_logistic curve\n"
     ]
    },
    {
     "data": {
      "image/png": "[encoded data removed]",
      "text/plain": [
       "<matplotlib.figure.Figure at 0x7f6cd32cdfd0>"
      ]
     },
     "metadata": {},
     "output_type": "display_data"
    },
    {
     "name": "stderr",
     "output_type": "stream",
     "text": [
      "/home/rjm49/.venvs/isaac/lib/python3.6/site-packages/ipykernel_launcher.py:35: DeprecationWarning: This function is deprecated. Please call randint(1, 2 + 1) instead\n"
     ]
    },
    {
     "name": "stdout",
     "output_type": "stream",
     "text": [
      "~ ~ ~ ~~ ATTEMPT 0\n"
     ]
    },
    {
     "data": {
      "image/png": "[encoded data removed]",
      "text/plain": [
       "<matplotlib.figure.Figure at 0x7f6cd3313240>"
      ]
     },
     "metadata": {},
     "output_type": "display_data"
    },
    {
     "data": {
      "image/png": "[encoded data removed]",
      "text/plain": [
       "<matplotlib.figure.Figure at 0x7f6cd32be128>"
      ]
     },
     "metadata": {},
     "output_type": "display_data"
    },
    {
     "name": "stdout",
     "output_type": "stream",
     "text": [
      "2 FACTORS\n",
      "100 STUDENTS: 0.5320474693302197 1\n",
      "100 QUEST/NS: 2.5\n",
      "Offset 0.53204746933\n",
      "(100, 100, 0.5320474693302197, 1.0, 0.53204746933021974, 2.5)\n",
      "0.53204746933 1\n",
      "inv_logistic curve\n"
     ]
    },
    {
     "data": {
      "image/png": "[encoded data removed]",
      "text/plain": [
       "<matplotlib.figure.Figure at 0x7f6cd3398dd8>"
      ]
     },
     "metadata": {},
     "output_type": "display_data"
    },
    {
     "name": "stdout",
     "output_type": "stream",
     "text": [
      "~ ~ ~ ~~ ATTEMPT 1\n"
     ]
    },
    {
     "data": {
      "image/png": "[encoded data removed]",
      "text/plain": [
       "<matplotlib.figure.Figure at 0x7f6cd3291828>"
      ]
     },
     "metadata": {},
     "output_type": "display_data"
    },
    {
     "data": {
      "image/png": "[encoded data removed]",
      "text/plain": [
       "<matplotlib.figure.Figure at 0x7f6cd3263c18>"
      ]
     },
     "metadata": {},
     "output_type": "display_data"
    },
    {
     "name": "stdout",
     "output_type": "stream",
     "text": [
      "2 FACTORS\n",
      "100 STUDENTS: 0.5320474693302197 1\n",
      "100 QUEST/NS: 2.5\n",
      "Offset 0.53204746933\n",
      "(100, 100, 0.5320474693302197, 1.0, 0.53204746933021974, 2.5)\n",
      "0.53204746933 1\n",
      "inv_logistic curve\n"
     ]
    },
    {
     "data": {
      "image/png": "[encoded data removed]",
      "text/plain": [
       "<matplotlib.figure.Figure at 0x7f6cd313a7b8>"
      ]
     },
     "metadata": {},
     "output_type": "display_data"
    },
    {
     "name": "stdout",
     "output_type": "stream",
     "text": [
      "~ ~ ~ ~~ ATTEMPT 2\n"
     ]
    },
    {
     "data": {
      "image/png": "[encoded data removed]",
      "text/plain": [
       "<matplotlib.figure.Figure at 0x7f6cd30f12b0>"
      ]
     },
     "metadata": {},
     "output_type": "display_data"
    },
    {
     "data": {
      "image/png": "[encoded data removed]",
      "text/plain": [
       "<matplotlib.figure.Figure at 0x7f6cd3151be0>"
      ]
     },
     "metadata": {},
     "output_type": "display_data"
    },
    {
     "name": "stdout",
     "output_type": "stream",
     "text": [
      "2 FACTORS\n",
      "100 STUDENTS: 0.5320474693302197 1\n",
      "100 QUEST/NS: 2.5\n",
      "Offset 0.53204746933\n",
      "(100, 100, 0.5320474693302197, 1.0, 0.53204746933021974, 2.5)\n",
      "0.53204746933 1\n",
      "inv_logistic curve\n"
     ]
    },
    {
     "data": {
      "image/png": "[encoded data removed]",
      "text/plain": [
       "<matplotlib.figure.Figure at 0x7f6cd2fc3d30>"
      ]
     },
     "metadata": {},
     "output_type": "display_data"
    },
    {
     "name": "stdout",
     "output_type": "stream",
     "text": [
      "~ ~ ~ ~~ ATTEMPT 3\n"
     ]
    },
    {
     "data": {
      "image/png": "[encoded data removed]",
      "text/plain": [
       "<matplotlib.figure.Figure at 0x7f6cd2f92cf8>"
      ]
     },
     "metadata": {},
     "output_type": "display_data"
    },
    {
     "data": {
      "image/png": "[encoded data removed]",
      "text/plain": [
       "<matplotlib.figure.Figure at 0x7f6cd2f217f0>"
      ]
     },
     "metadata": {},
     "output_type": "display_data"
    },
    {
     "name": "stdout",
     "output_type": "stream",
     "text": [
      "2 FACTORS\n",
      "100 STUDENTS: 0.5320474693302197 1\n",
      "100 QUEST/NS: 2.5\n",
      "Offset 0.53204746933\n",
      "(100, 100, 0.5320474693302197, 1.0, 0.53204746933021974, 2.5)\n",
      "0.53204746933 1\n",
      "inv_logistic curve\n"
     ]
    },
    {
     "data": {
      "image/png": "[encoded data removed]",
      "text/plain": [
       "<matplotlib.figure.Figure at 0x7f6cd2e3ef60>"
      ]
     },
     "metadata": {},
     "output_type": "display_data"
    },
    {
     "name": "stdout",
     "output_type": "stream",
     "text": [
      "~ ~ ~ ~~ ATTEMPT 4\n"
     ]
    },
    {
     "data": {
      "image/png": "[encoded data removed]",
      "text/plain": [
       "<matplotlib.figure.Figure at 0x7f6cd2e13780>"
      ]
     },
     "metadata": {},
     "output_type": "display_data"
    },
    {
     "data": {
      "image/png": "[encoded data removed]",
      "text/plain": [
       "<matplotlib.figure.Figure at 0x7f6cd2db96a0>"
      ]
     },
     "metadata": {},
     "output_type": "display_data"
    },
    {
     "name": "stdout",
     "output_type": "stream",
     "text": [
      "2 FACTORS\n",
      "100 STUDENTS: 0.5320474693302197 1\n",
      "100 QUEST/NS: 2.5\n",
      "Offset 0.53204746933\n",
      "(100, 100, 0.5320474693302197, 1.0, 0.53204746933021974, 2.5)\n",
      "0.53204746933 1\n",
      "inv_logistic curve\n"
     ]
    },
    {
     "data": {
      "image/png": "[encoded data removed]",
      "text/plain": [
       "<matplotlib.figure.Figure at 0x7f6cd2d1aa58>"
      ]
     },
     "metadata": {},
     "output_type": "display_data"
    },
    {
     "name": "stdout",
     "output_type": "stream",
     "text": [
      "~ ~ ~ ~~ ATTEMPT 5\n"
     ]
    },
    {
     "data": {
      "image/png": "[encoded data removed]",
      "text/plain": [
       "<matplotlib.figure.Figure at 0x7f6cd2cfcc18>"
      ]
     },
     "metadata": {},
     "output_type": "display_data"
    },
    {
     "data": {
      "image/png": "[encoded data removed]",
      "text/plain": [
       "<matplotlib.figure.Figure at 0x7f6cd6127518>"
      ]
     },
     "metadata": {},
     "output_type": "display_data"
    },
    {
     "name": "stdout",
     "output_type": "stream",
     "text": [
      "2 FACTORS\n",
      "100 STUDENTS: 0.5320474693302197 1\n",
      "100 QUEST/NS: 2.5\n",
      "Offset 0.53204746933\n",
      "(100, 100, 0.5320474693302197, 1.0, 0.53204746933021974, 2.5)\n",
      "0.53204746933 1\n",
      "inv_logistic curve\n"
     ]
    },
    {
     "data": {
      "image/png": "[encoded data removed]",
      "text/plain": [
       "<matplotlib.figure.Figure at 0x7f6cd3410eb8>"
      ]
     },
     "metadata": {},
     "output_type": "display_data"
    },
    {
     "name": "stdout",
     "output_type": "stream",
     "text": [
      "~ ~ ~ ~~ ATTEMPT 6\n"
     ]
    },
    {
     "data": {
      "image/png": "[encoded data removed]",
      "text/plain": [
       "<matplotlib.figure.Figure at 0x7f6cd33cc4e0>"
      ]
     },
     "metadata": {},
     "output_type": "display_data"
    },
    {
     "data": {
      "image/png": "[encoded data removed]",
      "text/plain": [
       "<matplotlib.figure.Figure at 0x7f6cd3410240>"
      ]
     },
     "metadata": {},
     "output_type": "display_data"
    },
    {
     "name": "stdout",
     "output_type": "stream",
     "text": [
      "2 FACTORS\n",
      "100 STUDENTS: 0.5320474693302197 1\n",
      "100 QUEST/NS: 2.5\n",
      "Offset 0.53204746933\n",
      "(100, 100, 0.5320474693302197, 1.0, 0.53204746933021974, 2.5)\n",
      "0.53204746933 1\n",
      "inv_logistic curve\n"
     ]
    },
    {
     "data": {
      "image/png": "[encoded data removed]",
      "text/plain": [
       "<matplotlib.figure.Figure at 0x7f6cd2e2cfd0>"
      ]
     },
     "metadata": {},
     "output_type": "display_data"
    },
    {
     "name": "stdout",
     "output_type": "stream",
     "text": [
      "~ ~ ~ ~~ ATTEMPT 7\n"
     ]
    },
    {
     "data": {
      "image/png": "[encoded data removed]",
      "text/plain": [
       "<matplotlib.figure.Figure at 0x7f6cd32ef160>"
      ]
     },
     "metadata": {},
     "output_type": "display_data"
    },
    {
     "data": {
      "image/png": "[encoded data removed]",
      "text/plain": [
       "<matplotlib.figure.Figure at 0x7f6cd2fc5a90>"
      ]
     },
     "metadata": {},
     "output_type": "display_data"
    },
    {
     "name": "stdout",
     "output_type": "stream",
     "text": [
      "2 FACTORS\n",
      "100 STUDENTS: 0.5320474693302197 1\n",
      "100 QUEST/NS: 2.5\n",
      "Offset 0.53204746933\n",
      "(100, 100, 0.5320474693302197, 1.0, 0.53204746933021974, 2.5)\n",
      "0.53204746933 1\n",
      "inv_logistic curve\n"
     ]
    },
    {
     "data": {
      "image/png": "[encoded data removed]",
      "text/plain": [
       "<matplotlib.figure.Figure at 0x7f6cd339ea58>"
      ]
     },
     "metadata": {},
     "output_type": "display_data"
    },
    {
     "name": "stdout",
     "output_type": "stream",
     "text": [
      "~ ~ ~ ~~ ATTEMPT 8\n"
     ]
    },
    {
     "data": {
      "image/png": "[encoded data removed]",
      "text/plain": [
       "<matplotlib.figure.Figure at 0x7f6cd2f2dd30>"
      ]
     },
     "metadata": {},
     "output_type": "display_data"
    },
    {
     "data": {
      "image/png": "[encoded data removed]",
      "text/plain": [
       "<matplotlib.figure.Figure at 0x7f6cd3150748>"
      ]
     },
     "metadata": {},
     "output_type": "display_data"
    },
    {
     "name": "stdout",
     "output_type": "stream",
     "text": [
      "2 FACTORS\n",
      "100 STUDENTS: 0.5320474693302197 1\n",
      "100 QUEST/NS: 2.5\n",
      "Offset 0.53204746933\n",
      "(100, 100, 0.5320474693302197, 1.0, 0.53204746933021974, 2.5)\n",
      "0.53204746933 1\n",
      "inv_logistic curve\n"
     ]
    },
    {
     "data": {
      "image/png": "[encoded data removed]",
      "text/plain": [
       "<matplotlib.figure.Figure at 0x7f6cd2f4e400>"
      ]
     },
     "metadata": {},
     "output_type": "display_data"
    },
    {
     "name": "stdout",
     "output_type": "stream",
     "text": [
      "~ ~ ~ ~~ ATTEMPT 9\n"
     ]
    },
    {
     "data": {
      "image/png": "[encoded data removed]",
      "text/plain": [
       "<matplotlib.figure.Figure at 0x7f6cd2e904e0>"
      ]
     },
     "metadata": {},
     "output_type": "display_data"
    },
    {
     "data": {
      "image/png": "[encoded data removed]",
      "text/plain": [
       "<matplotlib.figure.Figure at 0x7f6cd32135c0>"
      ]
     },
     "metadata": {},
     "output_type": "display_data"
    },
    {
     "name": "stdout",
     "output_type": "stream",
     "text": [
      "2 FACTORS\n",
      "100 STUDENTS: 0.5320474693302197 1\n",
      "100 QUEST/NS: 2.5\n",
      "Offset 0.53204746933\n",
      "(100, 100, 0.5320474693302197, 1.0, 0.53204746933021974, 2.5)\n"
     ]
    }
   ],
   "source": [
    "# n_factors, a0, a1, min_active, max_active = (5, 9, 1, 1, 3)\n",
    "# n_factors, a0, a1, min_active, max_active = (100, 0, 1, 1, 5)\n",
    "n_factors, min_active, max_active = (2,1,2)\n",
    "\n",
    "for a in range(10):\n",
    "    n_students = 100 # int(10**(scipy.stats.truncnorm.rvs(2,4, size=1)))\n",
    "    n_questions = 100 # int(numpy.random.uniform(15,35, size=1))\n",
    "    a1,a0,av_c,offset,test_w = generate_params(max_active, min_active)\n",
    "    print(a0, a1)\n",
    "    obs, probz, students, questions  = gen_run(n_factors, a0, a1, min_active, max_active, s_gen=\"truncnorm\", q_gen=\"u_uniform\", test_w = test_w)\n",
    "\n",
    "    print(\"~ ~ ~ ~~ ATTEMPT\",a)\n",
    "    plt.hist(students.flatten(), alpha=0.5)\n",
    "    plt.hist(questions.flatten(), alpha=0.5)\n",
    "    plt.show()\n",
    "    plt.hist(probz.flatten(), bins=20)\n",
    "    plt.show()\n",
    "    print(\"{} FACTORS\".format(n_factors))\n",
    "    print(\"{} STUDENTS: {} {}\".format(n_students, a0, a1))\n",
    "    print(\"{} QUEST/NS: {}\".format(n_questions, test_w))\n",
    "    print(\"Offset\", offset)\n",
    "    print((n_students, n_questions, float(a0), float(a1), offset, test_w))"
   ]
  },
  {
   "cell_type": "code",
   "execution_count": null,
   "metadata": {},
   "outputs": [],
   "source": [
    "# for orow in obs:\n",
    "#     srow = map(str, map(int, list(orow)))\n",
    "#     srow = \"\".join(srow)\n",
    "#     print(srow)"
   ]
  },
  {
   "cell_type": "code",
   "execution_count": null,
   "metadata": {},
   "outputs": [],
   "source": [
    "# students = gen_students(100, 9, 1, 100)\n",
    "# questions, minval = gen_questions(100, 9, 1, 1,5, gen_mode=\"uniform\")\n",
    "# # plt.hist(questions.flatten())\n",
    "# print(minval)\n",
    "# q2 = questions\n",
    "# q2[q2>0] = q2[q2>0] - minval +6\n",
    "# s2 = students - minval +6\n",
    "# plt.hist(q2.flatten(), alpha=0.5)\n",
    "# plt.hist(s2.flatten(), alpha=0.5)\n",
    "\n",
    "# plt.show()"
   ]
  },
  {
   "cell_type": "code",
   "execution_count": null,
   "metadata": {},
   "outputs": [],
   "source": [
    "# from keras.layers import Dropout, multiply, subtract, GaussianNoise, GaussianDropout, dot\n",
    "# from keras import backend as K\n",
    "# from keras.optimizers import Adam\n",
    "# def generate_mxf_model(qn_table, psi_table, optimiser, comp_lims=True, q_train=True, s_train=True):\n",
    "#     psi_sel = Input(shape=(1,), name=\"psi_select\", dtype=\"int32\")\n",
    "#     qn_sel = Input(shape=(1,), name=\"q_select\", dtype=\"int32\")\n",
    "# #     ob = Input(shape=(1,), name=\"observation\")\n",
    "#     print(qn_table, psi_table, psi_sel, qn_sel)\n",
    "#     print(\"psi_sel shape\", psi_sel.shape)\n",
    "\n",
    "#     psi_table.trainable=s_train\n",
    "#     qn_table.trainable=q_train\n",
    "    \n",
    "#     qn_row = qn_table(qn_sel)\n",
    "#     psi_row = psi_table(psi_sel)\n",
    "#     score = dot([psi_row, qn_row], axes=1)\n",
    "    \n",
    "#     mag_loss=0\n",
    "    \n",
    "#     def custom_loss(mag_loss):\n",
    "#         def orig_loss(yt,yh):\n",
    "# #             return K.binary_crossentropy(yt,yh) + mag_loss/100000 #+mag_loss # (reg_loss+mag_loss)/2\n",
    "# #             if comp_lims:\n",
    "#             return K.mean(K.square(yt-yh)) #+ mag_loss #+mag_loss # (reg_loss+mag_loss)/2\n",
    "# #                 return K.binary_crossentropy(yt,yh) #+ mag_loss/1000 #+mag_loss # (reg_loss+mag_loss)/2\n",
    "# #             else:\n",
    "# # #                 return K.mean(K.square(yt-yh))\n",
    "# #                 return K.binary_crossentropy(yt,yh)\n",
    "#         return orig_loss\n",
    "    \n",
    "#     model = Model(inputs=[qn_sel, psi_sel], outputs=score)\n",
    "# #     model.compile(optimizer=optimiser, loss=\"binary_crossentropy\", metrics=[\"accuracy\"])\n",
    "# #     if comp_lims:\n",
    "#     model.compile(optimizer=optimiser, loss=custom_loss(mag_loss), metrics=[\"accuracy\"])# metrics=[ident_loss(five_loss), ident_loss(one_loss),\"accuracy\"])\n",
    "# #     else:\n",
    "# #     model.compile(optimizer=optimiser, loss=\"mse\", metrics=[\"accuracy\"])\n",
    "        \n",
    "#     print(model.summary())\n",
    "\n",
    "#     return model"
   ]
  },
  {
   "cell_type": "code",
   "execution_count": null,
   "metadata": {},
   "outputs": [],
   "source": [
    "# from collections import defaultdict\n",
    "\n",
    "# frak = 1\n",
    "# pairs_to_use = [(v,m) for v in range(n_students) for m in range(n_questions)]\n",
    "# seenkeys = []\n",
    "# seen = defaultdict(list)\n",
    "\n",
    "# av_c=n_factors\n",
    "# inv_sigmoid = lambda p: -numpy.log(1/p - 1)\n",
    "# p50 = inv_sigmoid( 0.5**(1/av_c) )\n",
    "# print(\"p50 is \", p50, \"for comps\", av_c)\n",
    "\n",
    "# smin = min(students.flatten())\n",
    "# smax = max(students.flatten())\n",
    "# qmin = min(questions.flatten())\n",
    "# qmax = max(questions.flatten())\n",
    "# students = students - smin\n",
    "# questions = questions - smin\n",
    "\n",
    "\n",
    "# smin = min(students.flatten())\n",
    "# smax = max(students.flatten())\n",
    "# qmin = min(questions.flatten())\n",
    "# qmax = max(questions.flatten())\n",
    "# print(smin, smax, \"s/q\", qmin, qmax)\n",
    "\n",
    "\n",
    "# w=n_factors\n",
    "# # s_table =  BigTable((n_students, w), 0, 20, init_hilo=10)#, regulariser=regularizers.l1(10e-6))\n",
    "# # qn_table = BigTable((n_questions, w), 0, 20, init_hilo=10-p50)#, regulariser=regularizers.l1(10e-6))\n",
    "# # qn_table = BigTable((n_questions, w), 0, 20, init_hilo=0)#, regulariser=regularizers.l1(10e-6))\n",
    "\n",
    "# # s_table =  BigTable((n_students, w), 0, 12, init_hilo=6)#, regulariser=regularizers.l2(10e-6))\n",
    "# # # qn_table = BigTable((n_questions, w), 0, 10, init_hilo=5-p50)#, regulariser=regularizers.l1(10e-6))\n",
    "# # qn_table = BigTable((n_questions, w), 0, 12, init_hilo=6-p50)#, regulariser=regularizers.l1(10e-6))\n"
   ]
  },
  {
   "cell_type": "code",
   "execution_count": null,
   "metadata": {},
   "outputs": [],
   "source": [
    "# print(len(students))\n",
    "# print(len(questions))"
   ]
  },
  {
   "cell_type": "code",
   "execution_count": 32,
   "metadata": {},
   "outputs": [],
   "source": [
    "def tvt_split(sws, qws, split_mode=3):\n",
    "    all_sz = []\n",
    "    all_qz = []\n",
    "    all_pfz = []\n",
    "    sig = lambda z : 1/(1+numpy.exp(-z))\n",
    "    obs = numpy.zeros((len(sws), len(qws)))\n",
    "    probs = numpy.zeros((len(sws), len(qws)))\n",
    "    #obs = numpy.matmul(viewers, movies.T)/n_factors\n",
    "    vz = []\n",
    "    mz = []\n",
    "    scz =[]\n",
    "    all_pfz=[]\n",
    "    all_pairs = set()\n",
    "    attempt_lookup = defaultdict(list)\n",
    "    cts=[]\n",
    "    for vi in range(len(sws)):\n",
    "        for mi in range(len(qws)):\n",
    "            for _ in range(1):\n",
    "                all_pairs.add((vi,mi))\n",
    "#                 zmask = (qws[mi]==-10).astype(int)\n",
    "                deltas = sws[vi]-qws[mi]\n",
    "                prs = logistic(deltas,1,0)\n",
    "#                 prs = numpy.maximum(zmask,prs)\n",
    "\n",
    "                pr = numpy.prod(prs)\n",
    "                ct=0\n",
    "\n",
    "                all_sz.append(vi)\n",
    "                all_qz.append(mi)\n",
    "\n",
    "                rd = random.random()\n",
    "#                     print(vi, mi, pr, rd)\n",
    "                ob = (rd < pr)\n",
    "#                 obs[vi,mi] = ob\n",
    "                probs[vi,mi] = pr\n",
    "#                 all_pfz.append(pr)\n",
    "                attempt_lookup[(vi,mi)].append(ob)\n",
    "    #             print(vi,mi, numpy.prod(prs))\n",
    "\n",
    "    print(\"len all_pfz\", len(all_pfz))\n",
    "    plt.hist(all_pfz)\n",
    "    plt.show()\n",
    "\n",
    "    plt.hist(probs.flatten())\n",
    "    plt.show()\n",
    "    \n",
    "    plt.hist(cts, range=[0,10])\n",
    "    plt.show()\n",
    "\n",
    "    print(\"OBS SSHAPE\", obs.shape)\n",
    "\n",
    "    frak=1\n",
    "    all_pair_ixs = list(range(len(all_pairs)))\n",
    "    # ixs_to_use = numpy.random.choice(all_pair_ixs, size=int(max(frak*len(all_pairs),10)), replace=True)\n",
    "    # pairs_to_use = numpy.array(all_pairs)[ixs_to_use]\n",
    "\n",
    "    all_ixs = all_pair_ixs\n",
    "    \n",
    "    val_ixs = numpy.random.choice(all_pair_ixs, size=1000, replace=False) #len(attempts)//100, replace=False)\n",
    "    trn_ixs = list(set(all_ixs) - set(val_ixs))\n",
    "    test_ixs = numpy.random.choice(trn_ixs, size=1000, replace=False) #len(attempts)//100, replace=False)\n",
    "    trn_ixs = list(set(trn_ixs) - set(test_ixs))\n",
    "    print(\"tvt:\", len(all_ixs), len(trn_ixs), len(test_ixs))\n",
    "\n",
    "#     all_sz = numpy.array(all_sz).reshape([-1,1])\n",
    "#     all_qz = numpy.array(all_qz).reshape([-1,1])\n",
    "#     all_pfz = numpy.array(all_pfz).reshape([-1,1])\n",
    "#     print(\"len all_pfz\", len(all_pfz))\n",
    "\n",
    "    all_pairs = sorted(list(all_pairs))\n",
    "    test_pairs = [all_pairs[ix] for ix in test_ixs]\n",
    "    val_pairs = [all_pairs[ix] for ix in val_ixs]\n",
    "    train_pairs = [all_pairs[ix] for ix in trn_ixs]\n",
    "    \n",
    "    tsz=[]\n",
    "    tqz=[]\n",
    "    tpfz=[]\n",
    "    \n",
    "    vsz=[]\n",
    "    vqz=[]\n",
    "    vpfz=[]\n",
    "    \n",
    "    sz=[]\n",
    "    qz=[]\n",
    "    pfz=[]\n",
    "    \n",
    "    for tp in test_pairs:\n",
    "        scores = attempt_lookup[tp]\n",
    "        for sc in scores:\n",
    "            tsz.append(tp[0])\n",
    "            tqz.append(tp[1])\n",
    "            tpfz.append(sc)\n",
    "    \n",
    "    if split_mode==2:\n",
    "        train_pairs = train_pairs + val_pairs\n",
    "        val_pairs = []\n",
    "    \n",
    "    if split_mode==1:\n",
    "        train_pairs = train_pairs + val_pairs + test_pairs\n",
    "        test_pairs = []\n",
    "        val_pairs = []\n",
    "    \n",
    "    for tp in val_pairs:\n",
    "        scores = attempt_lookup[tp]\n",
    "        for sc in scores:\n",
    "            vsz.append(tp[0])\n",
    "            vqz.append(tp[1])\n",
    "            vpfz.append(sc)\n",
    "\n",
    "    for tp in train_pairs:\n",
    "        scores = attempt_lookup[tp]\n",
    "        for sc in scores:\n",
    "            sz.append(tp[0])\n",
    "            qz.append(tp[1])\n",
    "            pfz.append(sc)\n",
    "\n",
    "    tsz=numpy.array(tsz)\n",
    "    tqz=numpy.array(tqz)\n",
    "    tpfz=numpy.array(tpfz)\n",
    "    \n",
    "    vsz=numpy.array(vsz)\n",
    "    vqz=numpy.array(vqz)\n",
    "    vpfz=numpy.array(vpfz)\n",
    "    \n",
    "    sz=numpy.array(sz)\n",
    "    qz=numpy.array(qz)\n",
    "    pfz=numpy.array(pfz)\n",
    "    \n",
    "    return (sz,qz,pfz), (vsz,vqz,vpfz), (tsz,tqz,tpfz), obs, probs"
   ]
  },
  {
   "cell_type": "code",
   "execution_count": null,
   "metadata": {},
   "outputs": [],
   "source": [
    "(sz,qz,pfz), (vsz,vqz,vpfz), (tsz,tqz,tpfz), obs, probs = tvt_split(students, questions)\n",
    "print(vpfz)"
   ]
  },
  {
   "cell_type": "code",
   "execution_count": null,
   "metadata": {},
   "outputs": [],
   "source": [
    "# print(obs.shape)\n",
    "# rho_mx = numpy.corrcoef(obs.T, obs.T)\n",
    "# print(rho_mx)\n",
    "# print(rho_mx.shape)"
   ]
  },
  {
   "cell_type": "code",
   "execution_count": null,
   "metadata": {},
   "outputs": [],
   "source": [
    "# import sklearn\n",
    "# rho_mx2 = sklearn.metrics.pairwise.cosine_similarity(obs.T,obs.T)\n",
    "# numpy.set_printoptions(threshold=100)\n",
    "# print(rho_mx2)\n",
    "# print(rho_mx2.shape)"
   ]
  },
  {
   "cell_type": "code",
   "execution_count": null,
   "metadata": {},
   "outputs": [],
   "source": [
    "# user_index = 500 # The id of the user for whom we want to generate recommendations\n",
    "\n",
    "# # magnitude = numpy.sqrt(numpy.square(obs).sum(axis=1))\n",
    "\n",
    "# # unitvector = (x / magnitude, y / magnitude, z / magnitude, ...)\n",
    "# # data_items = obs / magnitude.reshape(-1,1)\n",
    "# data_items = obs\n",
    "\n",
    "# # Get the artists the user has likd.\n",
    "# for user_index in range(len(students)):\n",
    "#     known_user_likes = data_items[user_index,:]\n",
    "# #     print(known_user_likes)\n",
    "#     # known_user_likes = known_user_likes[known_user_likes >0].index.values\n",
    "#     # known_user_likes = numpy.argwhere(known_user_likes)\n",
    "\n",
    "# #     print(rho_mx2.sum(axis=0))\n",
    "\n",
    "#     # Calculate the score.\n",
    "# #     score = rho_mx2.dot(known_user_likes) / (rho_mx2.sum(axis=0))\n",
    "\n",
    "#     for i in range(len(questions)):\n",
    "#         sum_nom=0\n",
    "#         sum_denom=0\n",
    "#         wi = rho_mx2[i]\n",
    "#         rui = data_items[user_index, i]\n",
    "#         for j in range(len(questions)):\n",
    "#             wij = wi[j]\n",
    "#             sum_nom += wij*rui\n",
    "#             sum_denom += abs(wij)\n",
    "#         score = sum_nom/sum_denom\n",
    "#         numpy.set_printoptions(precision=5)\n",
    "#         print(user_index, i, score)\n",
    "# #         print(students[user_index])\n",
    "#     # Remove the known likes from the recommendation.\n",
    "#     # score = numpy.delete(score, known_user_likes)\n",
    "\n",
    "#     # Print the known likes and the top 20 recommendations.\n",
    "\n",
    "#     # print (score.argsort()[::-1][:20])\n",
    "    "
   ]
  },
  {
   "cell_type": "code",
   "execution_count": null,
   "metadata": {},
   "outputs": [],
   "source": [
    "# for ix in range(len(qws)):\n",
    "#     flags = (qws[ix]>1).astype(int) \n",
    "#     print(flags, sum(flags))\n",
    "# # print((qws>=1).astype(int))"
   ]
  },
  {
   "cell_type": "code",
   "execution_count": null,
   "metadata": {},
   "outputs": [],
   "source": [
    "numpy.set_printoptions(precision=2)\n",
    "for vi,mi,sc in zip(sz,qz,pfz):\n",
    "    print(vi,mi,sc)"
   ]
  },
  {
   "cell_type": "code",
   "execution_count": null,
   "metadata": {},
   "outputs": [],
   "source": [
    "print(\"TRUE VALS\")\n",
    "# print(numpy.min(questions), numpy.min(questions[questions.nonzero()]), numpy.max(questions))\n",
    "print(numpy.min(questions), numpy.max(questions))\n",
    "print(numpy.min(students), numpy.max(students))\n",
    "print(\"--- EMB VALS (prior):\")\n",
    "qws = qn_table.get_weights()[0]\n",
    "sws = s_table.get_weights()[0]\n",
    "# print(numpy.min(qws), numpy.min(qws[qws>=1]), numpy.max(qn_table.get_weights()[0]))\n",
    "print(numpy.min(qws), numpy.max(qn_table.get_weights()[0]))\n",
    "print(numpy.min(s_table.get_weights()[0]), numpy.max(s_table.get_weights()[0]))\n",
    "\n",
    "\n",
    "# print(qws)"
   ]
  },
  {
   "cell_type": "code",
   "execution_count": null,
   "metadata": {},
   "outputs": [],
   "source": [
    "print(qz)\n",
    "\n",
    "preds = m.predict(x=[qz,sz])\n",
    "for sc_true, sc_hat in zip(pfz[0:100],preds[0:100]):\n",
    "    print(sc_true, sc_hat)\n",
    "\n",
    "# print(m.evaluate(x=[mz,vz], y=scz))\n",
    "from sklearn.metrics import accuracy_score, mean_absolute_error\n",
    "print(accuracy_score(numpy.around(pfz), numpy.around(preds)  ))\n",
    "\n",
    "s_scores = defaultdict(list)\n",
    "\n",
    "for six in range(len(students)):\n",
    "    scs = m.predict(x=[numpy.array(range(len(questions))).reshape(-1,1), numpy.array(six).repeat(len(questions))])\n",
    "    s_scores[six].extend(scs)\n",
    "\n",
    "for six in range(len(students)):\n",
    "    s_av = float(numpy.median(s_scores[six]))\n",
    "    print(six, s_av)\n"
   ]
  },
  {
   "cell_type": "code",
   "execution_count": 54,
   "metadata": {},
   "outputs": [],
   "source": [
    "# wz = m.get_weights()\n",
    "# s_table =  BigTable((n_students, n_factors), 6, 100, init_hilo=10)#, regulariser=regularizers.l1(10e-6))\n",
    "# qn_table = BigTable((n_questions, n_factors), 0, 100, init_hilo=10-p50)#, regulariser=regularizers.l1(10e-6))\n",
    "# qm = generate_qs_model(qn_table, s_table, Adam(), comp_lims=False, s_train=False, q_train=True)\n",
    "# sm = generate_qs_model(qn_table, s_table, Adam(), comp_lims=False, s_train=True, q_train=False)\n",
    "from keras import regularizers\n",
    "def generate_and_train(qz,sz,pfz, vqz,vsz,vpfz, w=n_factors, test_av=a0):\n",
    "    weight_mode=\"semi-free\"\n",
    "#     weight_mode=\"bayesian\"\n",
    "# #     numpy.random.seed(666)\n",
    "    if weight_mode==\"free\":\n",
    "        s_table =  BigTable((n_students, w), -math.inf, math.inf, init_hilo=0)#, regulariser=regularizers.l2(10e-6))\n",
    "        qn_table = BigTable((n_questions, w), -math.inf, math.inf, init_hilo=0)#, regulariser=regularizers.l1(10e-6))\n",
    "    elif weight_mode==\"semi-free\":\n",
    "        s_table =  BigTable((n_students, w), -10, 10, init_hilo=0)#, regulariser=regularizers.l2(10e-6))\n",
    "        qn_table = BigTable((n_questions, w), -5, 10, init_hilo=0)#, regulariser=regularizers.l1(1e-6))\n",
    "    elif weight_mode==\"bayesian\":\n",
    "        s_table =  BigTable((n_students, w), 0, 1, init_hilo=0.5)#, regulariser=regularizers.l2(10e-6))\n",
    "        qn_table = BigTable((n_questions, w), 0, 1, init_hilo=0.5)#, regulariser=regularizers.l1(1e-6))\n",
    "    else:\n",
    "        s_table =  BigTable((n_students, w), 0, 12, init_hilo=0)#, regulariser=regularizers.l2(10e-6))\n",
    "        qn_table = BigTable((n_questions, w), 0, 12, init_hilo=0)#, regulariser=regularizers.l1(10e-6))\n",
    "    from keras.layers import Embedding\n",
    "    from keras.constraints import NonNeg, MinMaxNorm\n",
    "    from keras.initializers import RandomNormal, RandomUniform\n",
    "    \n",
    "#     wc=WeightClip(0,1)\n",
    "    \n",
    "    q_gates = None #Embedding(n_questions,w, input_length=1, embeddings_initializer=RandomUniform(minval=0, maxval=1, seed=None), embeddings_constraint=wc)\n",
    "#     qn_table = Embedding(n_questions,w, input_length=1, embeddings_initializer=RandomNormal(mean=6, stddev=0.3))\n",
    "#     s_table = Embedding(n_students,w, input_length=1, embeddings_constraint=WeightClip(0,math.inf), embeddings_initializer=RandomNormal(mean=6, stddev=0.3))\n",
    "    \n",
    "    m = generate_qs_model(qn_table, s_table, Adam(), comp_lims=False, test_av=test_av)#, s_train=True, q_train=True)\n",
    "    if vqz:\n",
    "        lozz=\"loss\"\n",
    "    else:\n",
    "        lozz=\"val_loss\"\n",
    "    es = EarlyStopping(monitor=lozz, restore_best_weights=True, patience=10)\n",
    "    h = m.fit(x=[qz,sz], y=numpy.array(pfz).reshape(-1,1), batch_size=1000, shuffle=True, epochs=100000, verbose=1, callbacks=[es], validation_data=[[vqz,vsz], vpfz])\n",
    "    return s_table, qn_table, q_gates, m, h"
   ]
  },
  {
   "cell_type": "code",
   "execution_count": null,
   "metadata": {
    "scrolled": true
   },
   "outputs": [],
   "source": [
    "s_table, qn_table, _, m, h = generate_and_train(qz,sz,pfz, vqz,vsz,vpfz, w=n_factors)"
   ]
  },
  {
   "cell_type": "code",
   "execution_count": null,
   "metadata": {},
   "outputs": [],
   "source": [
    "for six in range(len(students)):\n",
    "    print(\"S=\",six)\n",
    "    scs = m.predict(x=[numpy.array(range(len(questions))).reshape(-1,1), numpy.array(six).repeat(len(questions))])\n",
    "    for qix in range(len(questions)):\n",
    "        print(qix, \" : \", scs[qix], obs[six,qix], probs[six,qix])\n",
    "#     s_scores[six].extend(scs)\n",
    "\n",
    "# for six in range(len(students)):\n",
    "#     s_av = float(numpy.median(s_scores[six]))\n",
    "#     print(six, s_av)\n",
    "    \n",
    "    \n",
    "    "
   ]
  },
  {
   "cell_type": "code",
   "execution_count": null,
   "metadata": {},
   "outputs": [],
   "source": [
    "def plot_history(history):\n",
    "    plt.plot(history.history['acc'])\n",
    "#     plt.plot(history.history['val_acc'])\n",
    "    plt.title('model accuracy')\n",
    "    plt.ylabel('accuracy')\n",
    "    plt.xlabel('epoch')\n",
    "    plt.legend(['train', 'val'], loc='upper left')\n",
    "    plt.show()\n",
    "\n",
    "    plt.plot(history.history['loss'])\n",
    "    plt.plot(history.history['val_loss'])\n",
    "    plt.title('model loss')\n",
    "    plt.ylabel('MSE loss')\n",
    "    plt.xlabel('epoch')\n",
    "    plt.legend(['train', 'val'], loc='upper left')\n",
    "    plt.show()\n",
    "    \n",
    "plot_history(h)"
   ]
  },
  {
   "cell_type": "code",
   "execution_count": null,
   "metadata": {},
   "outputs": [],
   "source": [
    "right_ct=0\n",
    "# preds = m.predict(x=[qz,sz])\n",
    "# for q,s, sc_obsv, sc_hat in zip(qz,sz,pfz,preds):\n",
    "#     print(q,s, sc_obsv, sc_hat, \"right\" if (numpy.around(sc_obsv)==numpy.around(sc_hat)) else \"X\")\n",
    "\n",
    "print(len(pfz), len(tpfz))\n",
    "right_ct=0\n",
    "preds = m.predict(x=[tqz,tsz]).flatten()\n",
    "print(preds)\n",
    "# flags = numpy.random.random(size=len(preds))\n",
    "# print(flags)\n",
    "# preds = flags <= preds\n",
    "ground_truths = []\n",
    "zipd_list = sorted(list(zip(tsz, tqz,tpfz,preds)))\n",
    "for s,q, sc_obsv, sc_hat in zipd_list:\n",
    "#     sc_hat_stoc = (random.random() < sc_hat)\n",
    "    pr = probs[s,q]\n",
    "    print(q,s, sc_obsv, pr, sc_hat, \"right\" if (numpy.around(pr)==numpy.around(sc_hat)) else \"X\")\n",
    "    ground_truths.append((pr,sc_hat))\n",
    "#     print(sc_obsv, sc_hat, res)\n",
    "\n",
    "# print(m.evaluate(x=[tmz,tvz], y=tscz))\n",
    "\n",
    "from sklearn.metrics import accuracy_score, mean_absolute_error\n",
    "print(preds.shape)\n",
    "\n",
    "# print(right_ct / len(tpfz))\n",
    "\n",
    "print(\"#########\")\n",
    "for (g,p) in ground_truths:\n",
    "    print(g,p)\n",
    "\n",
    "print(\"obvsd acc\", accuracy_score(numpy.around([g[0] for g in ground_truths]), numpy.around([g[1] for g in ground_truths])))\n",
    "# print(\"non-stoch acc\", accuracy_score(numpy.around(t_probz), numpy.around(preds)))\n",
    "# print(mean_absolute_error(t_probz, preds))\n",
    "#0.000302638761699 MSE MxMul\n"
   ]
  },
  {
   "cell_type": "code",
   "execution_count": null,
   "metadata": {},
   "outputs": [],
   "source": [
    "for qix in range(len(questions)):\n",
    "    kcs = numpy.argwhere(questions[qix] > 1)\n",
    "    \n",
    "    klevs = questions[qix][kcs.flatten()] \n",
    "    print(qix, [\"{}={}\".format(k,round(klev,2)) for (k,klev) in zip(kcs.flatten(),klevs)])"
   ]
  },
  {
   "cell_type": "code",
   "execution_count": null,
   "metadata": {},
   "outputs": [],
   "source": [
    "qws = qn_table.get_weights()[0]\n",
    "sws = s_table.get_weights()[0]\n",
    "# qmin = min(qws)\n",
    "\n",
    "offset = numpy.mean(students) - numpy.mean(sws) \n",
    "qws = qws #+ offset\n",
    "sws = sws #S+ offset\n",
    "print(len(qws.flatten()))\n",
    "print(len(questions.flatten()))\n",
    "item_RMSE = numpy.sqrt(numpy.mean(numpy.square(numpy.sort(qws.flatten()) - numpy.sort(questions.flatten()))))\n",
    "item_MAE = numpy.mean(numpy.abs(numpy.sort(qws.flatten()) - numpy.sort(questions.flatten())))\n",
    "# item_RMSE = numpy.sqrt(numpy.mean(numpy.square(qws.flatten() - questions.flatten())))\n",
    "# item_MAE = numpy.mean(numpy.abs(qws.flatten() - questions.flatten()))\n",
    "\n",
    "print(item_RMSE, item_MAE)"
   ]
  },
  {
   "cell_type": "code",
   "execution_count": null,
   "metadata": {
    "scrolled": true
   },
   "outputs": [],
   "source": [
    "# preds = m.predict([tqz,tsz])\n",
    "# for pred,q,s in zip(preds,tqz,tsz):\n",
    "#     print(q, pred)\n",
    "numpy.set_printoptions(precision=2)\n",
    "\n",
    "seen = set()\n",
    "for qix,six in zip(tqz, tsz):\n",
    "    if (int(qix),int(six)) in seen:\n",
    "        continue\n",
    "    else:\n",
    "        seen.add((int(qix),int(six)))\n",
    "    qrow = questions[qix].flatten()\n",
    "    srow = students[six].flatten()\n",
    "    qhat = qws[qix].flatten()\n",
    "    shat = sws[six].flatten()\n",
    "#     print(qix, six, (srow, shat), (qrow, qhat), srow-qrow, shat-qhat)\n",
    "    print(\"STUDENT\", six)\n",
    "    print(srow)\n",
    "    print(shat)\n",
    "    print(\"VS Q\", qix)\n",
    "    print(qrow)\n",
    "    print(qhat)#, \" >>>\", srow-qrow, shat-qhat)\n",
    "    print(\"Comp. Prs:\")\n",
    "    for s,q in ((srow,qrow), (shat,qhat)):\n",
    "        zmask = (q<0.0001).astype(int)\n",
    "        deltas = s-q\n",
    "        prs = logistic(deltas,1,0)\n",
    "        prs = numpy.maximum(zmask,prs)\n",
    "        print(prs, numpy.prod(prs))\n",
    "    \n",
    "print(len(sws))\n",
    "print(len(students))\n",
    "\n",
    "bin_spread = lambda x: max(1,int(abs(2*(numpy.max(x)-numpy.min(x)))))\n",
    "\n",
    "plt.hist(students.flatten(), alpha=0.5, bins=bin_spread(students))\n",
    "plt.hist(sws[list(set(tsz))].flatten(), alpha=0.4, bins=bin_spread(sws))\n",
    "plt.show()\n",
    "plt.hist(questions.flatten(), alpha=0.5, bins=bin_spread(questions))\n",
    "print(bin_spread(qws))\n",
    "plt.hist(qws[list(set(tqz))].flatten(), alpha=0.4, bins=bin_spread(qws))\n",
    "plt.show()"
   ]
  },
  {
   "cell_type": "code",
   "execution_count": 2,
   "metadata": {
    "scrolled": true
   },
   "outputs": [
    {
     "ename": "NameError",
     "evalue": "name 'generate_params' is not defined",
     "output_type": "error",
     "traceback": [
      "\u001b[0;31m---------------------------------------------------------------------------\u001b[0m",
      "\u001b[0;31mNameError\u001b[0m                                 Traceback (most recent call last)",
      "\u001b[0;32m<ipython-input-2-91e6de703f20>\u001b[0m in \u001b[0;36m<module>\u001b[0;34m()\u001b[0m\n\u001b[1;32m     15\u001b[0m \u001b[0mtw\u001b[0m\u001b[0;34m=\u001b[0m\u001b[0;32mNone\u001b[0m\u001b[0;34m\u001b[0m\u001b[0;34m\u001b[0m\u001b[0m\n\u001b[1;32m     16\u001b[0m \u001b[0;32mfor\u001b[0m \u001b[0m_\u001b[0m \u001b[0;32min\u001b[0m \u001b[0mrange\u001b[0m\u001b[0;34m(\u001b[0m\u001b[0mn_runs\u001b[0m\u001b[0;34m)\u001b[0m\u001b[0;34m:\u001b[0m\u001b[0;34m\u001b[0m\u001b[0;34m\u001b[0m\u001b[0m\n\u001b[0;32m---> 17\u001b[0;31m     \u001b[0ma1\u001b[0m\u001b[0;34m,\u001b[0m\u001b[0ma0\u001b[0m\u001b[0;34m,\u001b[0m\u001b[0mav_c\u001b[0m\u001b[0;34m,\u001b[0m\u001b[0moffset\u001b[0m\u001b[0;34m,\u001b[0m\u001b[0mtest_w\u001b[0m \u001b[0;34m=\u001b[0m \u001b[0mgenerate_params\u001b[0m\u001b[0;34m(\u001b[0m\u001b[0mmin_active\u001b[0m\u001b[0;34m,\u001b[0m \u001b[0mmax_active\u001b[0m\u001b[0;34m)\u001b[0m\u001b[0;34m\u001b[0m\u001b[0;34m\u001b[0m\u001b[0m\n\u001b[0m\u001b[1;32m     18\u001b[0m     \u001b[0;32mif\u001b[0m \u001b[0mtw\u001b[0m \u001b[0;32mis\u001b[0m \u001b[0;32mNone\u001b[0m\u001b[0;34m:\u001b[0m\u001b[0;34m\u001b[0m\u001b[0;34m\u001b[0m\u001b[0m\n\u001b[1;32m     19\u001b[0m         \u001b[0mtw\u001b[0m\u001b[0;34m=\u001b[0m\u001b[0mtest_w\u001b[0m\u001b[0;34m\u001b[0m\u001b[0;34m\u001b[0m\u001b[0m\n",
      "\u001b[0;31mNameError\u001b[0m: name 'generate_params' is not defined"
     ]
    }
   ],
   "source": [
    "import copy\n",
    "# numpy.random.seed(666)\n",
    "# n_students, n_questions, a0, a1, offset, test_w = (1000, 100, 0.8110750422323121, 1.1967074599870124, 0.53204746933021974, 2.6389781733222257)\n",
    "n_students, n_questions = 100,100\n",
    "n_factors, min_active, max_active = (10,1,5)\n",
    "# n_factors, min_active, max_active = (2,1,2)\n",
    "# n_students, n_questions, a0, a1, offset, test_w = (5000, 100, 0.6516427938897171, 1.5588438755755065, 0.53204746933021974, 0.7168318678096066)\n",
    "\n",
    "qws_list = []\n",
    "sws_list = []\n",
    "tr_list = []\n",
    "questions=None\n",
    "stu_list=[]\n",
    "n_runs = 4\n",
    "tw=None\n",
    "for _ in range(n_runs):\n",
    "    a1,a0,av_c,offset,test_w = generate_params(min_active, max_active)\n",
    "    if tw is None:\n",
    "        tw=test_w\n",
    "    _, _, students2, qz_temp  = gen_run(n_factors, a0, a1, min_active, max_active, s_gen=\"truncnorm\", q_gen=\"u_uniform\", test_w = tw)\n",
    "    stu_list.append(students2)\n",
    "    if questions is None:\n",
    "        questions = qz_temp\n",
    "        \n",
    "    print(\"~ ~ ~ ~~ ATTEMPT\",a)\n",
    "    plt.hist(students2.flatten(), alpha=0.5)\n",
    "    plt.show()\n",
    "    plt.hist(questions.flatten(), alpha=0.5)\n",
    "    plt.show()\n",
    "        \n",
    "    (sz2,qz2,pfz2), (vsz2,vqz2,vpfz2), (tsz2,tqz2,tpfz2), obs2, probs2 = tvt_split(students2, questions, split_mode=1)\n",
    "    tr_list.append(((sz2,qz2,pfz2), (vsz2,vqz2,vpfz2), (tsz2,tqz2,tpfz2)))\n",
    "\n",
    "#     plt.hist(questions.flatten(), alpha=0.5)\n",
    "#     plt.hist(students2.flatten(), alpha=0.5)    \n",
    "#     plt.show()\n",
    "\n",
    "    \n",
    "# for runix in range(n_runs):\n",
    "#     (sz2,qz2,pfz2), (vsz2,vqz2,vpfz2), (tsz2,tqz2,tpfz2) = tr_list[runix]\n",
    "    s_table2, qn_table2, _, m2, h2 = generate_and_train(qz2,sz2,pfz2, vqz2,vsz2,vpfz2, w=n_factors, test_av=offset)\n",
    "    qws2= copy.copy(qn_table2.get_weights()[0])\n",
    "    sws2= copy.copy(s_table2.get_weights()[0])\n",
    "#     qg = q_gates.get_weights()[0]\n",
    "#     qg_list.append(qg)\n",
    "    sws_list.append(sws2)\n",
    "    qws_list.append(qws2)\n"
   ]
  },
  {
   "cell_type": "code",
   "execution_count": 22,
   "metadata": {},
   "outputs": [],
   "source": [
    "def calc_arr_arr_err(split, real_wgts, pred_wgts, max_iter=10):\n",
    "    from scipy.spatial.distance import cosine\n",
    "# pred_wgts = numpy.round(pred_wgts,1)\n",
    "\n",
    "    out_cols = [None] * len(real_wgts.T)\n",
    "    curr_sel = None\n",
    "    curr_ix = None\n",
    "    n_iters = 10\n",
    "    chosen = None\n",
    "    curr_real_ix = None\n",
    "    \n",
    "    indices = range(len(real_wgts.T))\n",
    "\n",
    "    min_total_err = math.inf\n",
    "    best_dis = math.inf\n",
    "    for i in range(max_iter): #len(indices)**2):\n",
    "        real_used = set()\n",
    "        pred_used = set()\n",
    "        while len(pred_used) < len(indices):\n",
    "            curr_err = math.inf\n",
    "            curr_cos = math.inf\n",
    "            for rix in numpy.random.permutation(indices):\n",
    "                if rix in real_used:\n",
    "                    continue\n",
    "                real_col = real_wgts.T[rix]\n",
    "                for cix in numpy.random.permutation(indices):\n",
    "                    if cix in pred_used:\n",
    "                        continue\n",
    "                    pred_col = pred_wgts.T[cix]\n",
    "                    pred_col = pred_col #* pred_q_col\n",
    "                    err = numpy.mean(numpy.abs( pred_col - real_col))\n",
    "                    \n",
    "                    if err < curr_err:\n",
    "                        curr_sel = pred_col\n",
    "                        curr_err = err\n",
    "                        curr_cos = 0#cosine(pred_col, real_col)\n",
    "                        curr_ix = cix\n",
    "                        curr_real_ix = rix\n",
    "            real_used.add(curr_real_ix)\n",
    "            pred_used.add(curr_ix)\n",
    "            out_cols[curr_real_ix] = curr_sel\n",
    "        out_col_arr = numpy.array(out_cols).T\n",
    "        total_err = numpy.mean(numpy.abs( out_col_arr - real_wgts ))\n",
    "        \n",
    "        dis = 0\n",
    "        mean_ll = numpy.mean( out_col_arr - real_wgts )\n",
    "        if total_err < min_total_err:\n",
    "            min_total_err = total_err\n",
    "            total_q_err = numpy.mean(numpy.abs( out_col_arr[0:split] - real_wgts[0:split] ))\n",
    "            total_s_err = numpy.mean(numpy.abs( out_col_arr[split:] - real_wgts[split:] ))\n",
    "            best_ll = mean_ll\n",
    "            chosen = out_col_arr\n",
    "            best_dis = dis\n",
    "    return chosen, min_total_err, total_q_err, total_s_err, mean_ll, best_dis\n"
   ]
  },
  {
   "cell_type": "code",
   "execution_count": 56,
   "metadata": {},
   "outputs": [
    {
     "data": {
      "image/png": "[encoded data removed]",
      "text/plain": [
       "<matplotlib.figure.Figure at 0x7f6c40db34e0>"
      ]
     },
     "metadata": {},
     "output_type": "display_data"
    },
    {
     "data": {
      "image/png": "[encoded data removed]",
      "text/plain": [
       "<matplotlib.figure.Figure at 0x7f6c3e7a1ba8>"
      ]
     },
     "metadata": {},
     "output_type": "display_data"
    },
    {
     "name": "stdout",
     "output_type": "stream",
     "text": [
      "28\n",
      "len qws_list 4\n",
      "med -1.46432\n",
      "med -1.92647\n",
      "med -1.71206\n",
      "med -1.71006\n"
     ]
    },
    {
     "data": {
      "image/png": "[encoded data removed]",
      "text/plain": [
       "<matplotlib.figure.Figure at 0x7f6c3f325a20>"
      ]
     },
     "metadata": {},
     "output_type": "display_data"
    }
   ],
   "source": [
    "# sws2= s_table2.get_weights()[0]\n",
    "# qws2= qn_table2.get_weights()[0]\n",
    "\n",
    "# offset = numpy.mean(students2) - numpy.mean(sws2) \n",
    "# qws2 = qws2# + offset\n",
    "# sws2 = sws2# + offset\n",
    "\n",
    "bin_spread = lambda x: max(1,int(abs(2*(numpy.max(x)-numpy.min(x)))))\n",
    "\n",
    "for ss in stu_list:\n",
    "    plt.hist(ss.flatten(), alpha=0.5, bins=bin_spread(ss))\n",
    "plt.show()\n",
    "\n",
    "sw_av_list = []\n",
    "for sw, tups in zip(sws_list, tr_list):\n",
    "    (sz,qz,pfz), (vsz,vqz,vpfz), (tsz,tqz,tpfz) = tups\n",
    "    plt.hist(sw.flatten(), alpha=0.4, bins=bin_spread(sw))\n",
    "    sw_av_list.append(numpy.median(sw.flatten()))\n",
    "plt.show()\n",
    "plt.hist(questions.flatten(), alpha=1, bins=bin_spread(questions))\n",
    "print(bin_spread(qws2))\n",
    "\n",
    "# qws_list_2 = []\n",
    "real_max_q = numpy.max(questions.flatten())\n",
    "print(\"len qws_list\", len(qws_list))\n",
    "for qw, tups, av in zip(qws_list, tr_list, sw_av_list):\n",
    "    qw = copy.copy(qw)\n",
    "    print(\"med\",numpy.median(qw))\n",
    "#     (sz,qz,pfz), (vsz,vqz,vpfz), (tsz,tqz,tpfz) = tups\n",
    "#     qg2 = (qg>0.5).astype(int)\n",
    "#     masqd = qw*qg2\n",
    "#     qws_list_2.append(masqd)\n",
    "#     print(qw)\n",
    "#     print(qg)\n",
    "#     plt.hist(qw[list(set(qz))].flatten(), alpha=0.4, bins=bin_spread(qw))\n",
    "\n",
    "#     max_q = numpy.max(qw)\n",
    "#     os = real_max_q - max_q\n",
    "#     qw += os\n",
    "\n",
    "#     thresh = 0\n",
    "#     qw[qw < thresh] = 0\n",
    "    plt.hist(qw.flatten(), alpha=0.2, bins=bin_spread(qw))\n",
    "\n",
    "plt.show()\n",
    "\n",
    "# qws_list = qws_list2"
   ]
  },
  {
   "cell_type": "code",
   "execution_count": null,
   "metadata": {},
   "outputs": [],
   "source": [
    "# s_offset = ((numpy.max(students, axis=0)-numpy.min(students, axis=0))/2 - (numpy.max(sws2, axis=0)- numpy.min(sws2, axis=0))/2)\n",
    "# s_offset = (numpy.median(students, axis=0) - numpy.median(sws2, axis=0))\n",
    "# s_offset = numpy.median(questions, axis=0) - numpy.median(qws2, axis=0)\n",
    "# np_sws_list = numpy.array(sws_list)\n",
    "# print(np_sws_list)\n",
    "\n",
    "# # for sw in sws_list:\n",
    "# s_offset = numpy.median(numpy.median(sws_list, axis=1), axis=0)\n",
    "# s_sd = numpy.median(numpy.std(sws_list, axis=1), axis=0)\n",
    "# print(s_offset, s_sd)\n",
    "\n",
    "# s_offset = s_offset- 2.7*s_sd\n",
    "# print(s_offset)\n",
    "# q_offset = numpy.median(qw, axis=1)\n",
    "# q_offset = numpy.median(q_offset, axis=0)\n",
    "# # s_offset = numpy.median(s_offset, axis=0)\n",
    "# # print(s_offset)\n",
    "# print(\"\\n\",q_offset)\n",
    "\n",
    "# for sw in sws_list:\n",
    "# s_offset = numpy.min(sws_list, axis=1)\n",
    "# print(s_offset)\n",
    "\n",
    "# s_offset = numpy.median(numpy.min(sws_list, axis=1), axis=0)\n",
    "# s_sd = numpy.median(numpy.std(sws_list, axis=1), axis=0)\n",
    "# print(s_offset, s_sd)\n",
    "\n",
    "qw_min_list = []\n",
    "for qws in qws_list:\n",
    "    qws[qws < -1] = numpy.nan\n",
    "#     means = np.nanmean(data[:, 1:], axis=1)\n",
    "    qwm=numpy.nanmedian(qws, axis=0)\n",
    "    qw_min_list.append(qwm)\n",
    "    qws[numpy.isnan(qws)] = 0\n",
    "print(qw_min_list)\n",
    "s_offset = qw_min_list"
   ]
  },
  {
   "cell_type": "code",
   "execution_count": null,
   "metadata": {},
   "outputs": [],
   "source": [
    "import copy\n",
    "def stats_about_stuff(real_items):\n",
    "    cp = copy.copy(real_items)\n",
    "    cp[cp==0]=numpy.nan\n",
    "    meds = numpy.nanmedian(real_items, axis=0)\n",
    "    meansnan = numpy.nanmean(cp, axis=0)\n",
    "    medsnan = numpy.nanmedian(cp, axis=0)\n",
    "    q_mx = (real_items>=(meds-5))#.astype(int)\n",
    "#     print(cp)\n",
    "    print(meds)\n",
    "    print(medsnan)\n",
    "    print(meansnan)\n",
    "#     print(q_mx)\n",
    "    for ix,it in enumerate(real_items):\n",
    "        qrow = (it>0).astype(int)\n",
    "        print(ix, qrow, sum(qrow), numpy.median(it[it>0]))#, numpy.linalg.norm(it[it>0]))\n",
    "\n",
    "stats_about_stuff(questions)"
   ]
  },
  {
   "cell_type": "code",
   "execution_count": null,
   "metadata": {},
   "outputs": [],
   "source": [
    "numpy.set_printoptions(precision=2, suppress=True, threshold=100)\n",
    "def create_adj_mx(nodes):\n",
    "    L = numpy.zeros((len(nodes), len(nodes)))\n",
    "    for i in range(len(nodes)):\n",
    "        sum_dist = 0\n",
    "        for j in range(len(nodes)):\n",
    "            dist = numpy.linalg.norm(nodes[j]-nodes[i], ord=2)\n",
    "            L[i,j] = dist\n",
    "    return L\n",
    "\n",
    "def create_laplacian(nodes):\n",
    "    amx = create_adj_mx(nodes)\n",
    "    L = -amx #negate the adj mx\n",
    "    for ix,row in enumerate(L):\n",
    "        deg = -numpy.sum(row)\n",
    "        L[ix,ix] = deg\n",
    "    return L\n",
    "\n",
    "def graph_adj_mx(L, n=3, fn=\"adj_mx\"):\n",
    "    from graphviz import Graph\n",
    "    gg = Graph(strict=True, filename=fn)\n",
    "    if L[0,1]<0:\n",
    "        L = -L\n",
    "    for ix in range(len(L)):\n",
    "        row = L[ix,:]\n",
    "        js = numpy.argsort(row)[1:n+1]\n",
    "        for j in js:\n",
    "            v = row[j]\n",
    "            tup = str(ix),str(j),str(round(v,2))\n",
    "#             print(\"cadd edge\", tup)\n",
    "            sta,end,lab = tup\n",
    "            gg.edge(sta,end, label=str(lab))\n",
    "    gg.view()\n",
    "\n",
    "\n",
    "amx = create_adj_mx(questions)\n",
    "print(amx)\n",
    "graph_adj_mx(amx)\n",
    "\n",
    "    \n",
    "# numpy.set_printoptions(precision=2, suppress=True, threshold=100000)\n",
    "# print(L0.argsort(axis=1))\n",
    "m=3\n",
    "L1 = create_laplacian(questions)\n",
    "print(L1)\n",
    "graph_adj_mx(L1, fn=\"original\", n=m)\n",
    "\n",
    "for j,q in enumerate(qws_list):\n",
    "    L1 = create_laplacian(q)\n",
    "    graph_adj_mx(L1, fn=\"facsimile_{}\".format(j), n=m)\n",
    "\n",
    "# lams = numpy.linalg.eigvalsh(L0)\n",
    "# sum_eig = sum(lams)\n",
    "# sum_upto = 0\n",
    "# ct=0\n",
    "# for lam in lams:\n",
    "#     sum_upto += lam\n",
    "#     if sum_upto > 0.9*sum_eig:\n",
    "#         print(\"broke loop at \\lambda_{}\".format(ct))\n",
    "#         break\n",
    "#     ct+=1"
   ]
  },
  {
   "cell_type": "code",
   "execution_count": null,
   "metadata": {},
   "outputs": [],
   "source": [
    "import copy\n",
    "from sklearn.decomposition import PCA\n",
    "from sklearn.manifold import TSNE\n",
    "def plot_items(pred_list, real_items, s_offset):\n",
    "    tx=None\n",
    "#     tx = PCA(n_components=2)\n",
    "#     tx = TSNE(n_components=2)\n",
    "    fyrst = True\n",
    "    Cs = []\n",
    "    C_labs = []\n",
    "    pred_list = numpy.array(pred_list)\n",
    "    fitted_pred_list = []\n",
    "#     offset = numpy.median(pred_list[(pred_list>0.1)], axis=0) - numpy.median(real_items[(real_items>0.1)], axis=0)\n",
    "#     real_mean = numpy.min(real_items[real_items > 0.1])\n",
    "#     offset = numpy.min(pred_list[pred_list > 0.1]) - real_mean\n",
    "#     print(\"real mean\", real_mean)\n",
    "#     print(\"offset\", offset)\n",
    "    \n",
    "    m = len(real_items)\n",
    "    cols = list(range(m))\n",
    "    shuffle(cols)\n",
    "    \n",
    "    xmeans = numpy.zeros(m)\n",
    "    ymeans = numpy.zeros(m)\n",
    "    pairs = defaultdict(list)\n",
    "    iter = 0\n",
    "    \n",
    "    cp_real = copy.copy(real_items)\n",
    "    cp_real[cp_real < 1] = numpy.nan\n",
    "    r_offset=numpy.nanmedian(cp_real, axis=0)\n",
    "    \n",
    "    itemz_2 = None\n",
    "    for opreds in pred_list:\n",
    "        preds = copy.copy(opreds) - s_offset[iter] + r_offset\n",
    "        split = 0\n",
    "        \n",
    "        items_chosen, min_total_err, total_q_err, total_s_err, mean_ll, best_cos_dis = calc_arr_arr_err(0, real_items, preds, max_iter=10)\n",
    "\n",
    "        itemz_pred = items_chosen\n",
    "        print(itemz_pred)\n",
    "        itemz_pred = numpy.maximum(itemz_pred,0)\n",
    "        fitted_pred_list.append(itemz_pred)\n",
    "        n = len(itemz_pred)\n",
    "#         itemz = real_items #- offset\n",
    "#         print(numpy.min(itemz), numpy.mean(itemz), numpy.max(itemz))\n",
    "        itemz = real_items\n",
    "#         itemz = numpy.maximum(itemz,0)\n",
    "#         print(numpy.min(itemz), numpy.mean(itemz), numpy.max(itemz))\n",
    "        if itemz_2 is None:\n",
    "            itemz_2 = numpy.concatenate([itemz, itemz_pred], axis=0)\n",
    "        else:\n",
    "            itemz_2 = numpy.concatenate([itemz_2, itemz_pred], axis=0)\n",
    "\n",
    "    if tx:\n",
    "        itemz_2 = tx.fit_transform(itemz_2)\n",
    "#         itemz_2 = numpy.concatenate([itemz, itemz_pred], axis=0)\n",
    "#         if fyrst:\n",
    "#         itemz_2 = tx.fit_transform(itemz_2)\n",
    "#             fyrst = False\n",
    "#         else:\n",
    "#             itemz_2 = tx.transform(itemz_2)\n",
    "\n",
    "    from sklearn.cluster import KMeans\n",
    "    iter=0\n",
    "    for opreds, itemz_pred in zip(pred_list, fitted_pred_list):\n",
    "        n = len(itemz_pred)\n",
    "        km = KMeans()\n",
    "        km.fit(itemz_pred)\n",
    "        cluster_labels = km.predict(itemz_pred)\n",
    "        print(cluster_labels)\n",
    "        \n",
    "        C = []\n",
    "        for l in set(cluster_labels):\n",
    "            cluster = list(numpy.where(cluster_labels==l)[0])\n",
    "            print(\"X\", cluster)\n",
    "            C.append(cluster)\n",
    "        Cs.append(C)\n",
    "        C_labs.append(cluster_labels)\n",
    "        \n",
    "        fig = plt.gcf()\n",
    "        fig.set_size_inches(10, 10)\n",
    "                \n",
    "#         NUM_COLORS = 100\n",
    "#         cm = plt.get_cmap('gist_rainbow')\n",
    "#         fig.gca().set_color_cycle([cm(1.*i/NUM_COLORS) for i in range(NUM_COLORS)])\n",
    "        print(type(itemz_2))\n",
    "        minix=n*(iter+1)\n",
    "        maxix=n*(iter+1)+n\n",
    "        \n",
    "        #i=0 -> 100,199\n",
    "        #i=2 -> 200,299\n",
    "        \n",
    "        print(\"no pts=\",n,\" indices=\", minix, maxix)\n",
    "        fig.gca().scatter(itemz_2[minix:maxix,0], itemz_2[minix:maxix,1], alpha=0.7, c=numpy.array(cols), cmap=plt.get_cmap('nipy_spectral'))\n",
    "        j=0\n",
    "        for j in range(n):\n",
    "            x,xh,y,yh = itemz_2[j+(n*iter),0], itemz_2[j+(n*iter+n) ,0], itemz_2[j+(n*iter),1], itemz_2[j+(n*iter+n),1]\n",
    "#             fig.gca().plot([x,xh],[y,yh],  color=\"#aaaaaa80\")\n",
    "            xmeans[j] += xh\n",
    "            ymeans[j] += yh\n",
    "            pairs[iter].append((xh, yh))\n",
    "        iter+=1\n",
    "        \n",
    "    for j in range(n):\n",
    "        fig.gca().annotate(j, (itemz_2[j,0], itemz_2[j,1]))\n",
    "        \n",
    "    fig.gca().scatter(itemz_2[0:n,0], itemz_2[0:n,1], c=\"k\", zorder=10)\n",
    "#     fig.gca().axhline(y=1e-6, linestyle=\"--\")\n",
    "#     fig.gca().axvline(x=1e-6, linestyle=\"--\")\n",
    "    plt.xlabel(\"Component 1\")\n",
    "    plt.ylabel(\"Component 2\")\n",
    "    \n",
    "    xmeans = xmeans / len(pred_list)\n",
    "    ymeans = ymeans / len(pred_list)\n",
    "    \n",
    "\n",
    "    if len(pred_list)>1:\n",
    "        for it in range(len(pred_list)):\n",
    "            xhyh_pairs = pairs[it]\n",
    "            for j,hat_pair in enumerate(xhyh_pairs):\n",
    "                xh,yh = hat_pair\n",
    "                x,y = itemz_2[j,0], itemz_2[j,1]\n",
    "                mux = xmeans[j]\n",
    "                muy = ymeans[j]\n",
    "#                 fig.gca().scatter(xh, yh, alpha=0.7, c=plt.get_cmap('nipy_spectral')(cols[j]))\n",
    "#                 fig.gca().scatter(mux,muy, c=\"#888888ff\", marker=\"*\", zorder=10)\n",
    "#                 fig.gca().plot([mux,xh],[muy,yh],color=\"#aaaaaa80\", linestyle=\"--\")\n",
    "#                 fig.gca().plot([mux,x],[muy,y],color=\"#888888dd\", linestyle=\"-\")\n",
    "                fig.gca().plot([x,xh],[y,yh],color=\"#aaaaaa80\", linestyle=\"--\")\n",
    "        \n",
    "    plt.show()\n",
    "    print(\"len Cs\", len(Cs))\n",
    "    from sklearn.metrics.cluster import adjusted_rand_score\n",
    "    rands = []\n",
    "    for ix in range(len(Cs)):\n",
    "#         print(ix)\n",
    "        for jx in range(len(Cs)):\n",
    "#             print(jx)\n",
    "            if ix!=jx:\n",
    "#             print(Cs[ix], Cs[jx])\n",
    "                print(\"VI:\", ix,jx, varinfo(Cs[ix],Cs[jx]))\n",
    "                a_rand = adjusted_rand_score(C_labs[ix], C_labs[jx])\n",
    "                print(\"Rand:\", a_rand)\n",
    "                rands.append(a_rand)\n",
    "    print(\"Mean rand score =\", numpy.mean(rands), numpy.std(rands))\n",
    "\n",
    "# qws = qn_table.get_weights()[0]\n",
    "# qws2 = qn_table2.get_weights()[0]\n",
    "        \n",
    "print(len(qws_list))\n",
    "plot_items(qws_list, copy.copy(questions), s_offset)"
   ]
  },
  {
   "cell_type": "code",
   "execution_count": null,
   "metadata": {},
   "outputs": [],
   "source": [
    "from sklearn.cluster import KMeans\n",
    "km = KMeans()\n",
    "q= questions\n",
    "km.fit(q)\n",
    "cluster_labels = km.predict(q)\n",
    "print(cluster_labels)\n",
    "\n",
    "fig = plt.gcf()\n",
    "n = len(q)\n",
    "fig.set_size_inches(10, 10)\n",
    "fig.gca().scatter(q[0:n,0], q[0:n,1], alpha=0.7, c=cluster_labels, cmap=plt.get_cmap(\"Set1\") )\n",
    "for j in range(n):\n",
    "    fig.gca().annotate(j, (q[j,0], q[j,1]))\n",
    "# fig.gca().scatter(itemz_2[n:,0], itemz_2[n:,1], alpha=0.7)"
   ]
  },
  {
   "cell_type": "code",
   "execution_count": null,
   "metadata": {},
   "outputs": [],
   "source": [
    "# plot_items([qws2], questions)"
   ]
  },
  {
   "cell_type": "code",
   "execution_count": null,
   "metadata": {},
   "outputs": [],
   "source": [
    "# n_factors, a0, a1, min_active, max_active = (5, 9, 1, 1, 3)\n",
    "# n_factors, a0, a1, min_active, max_active = (100, 0, 1, 1, 5)\n",
    "n_factors, min_active, max_active = (2, 1, 2)\n",
    "\n",
    "for _ in range(100):\n",
    "    n_students = int(10**(scipy.stats.truncnorm.rvs(2,4, size=1)))\n",
    "    n_questions = int(numpy.random.uniform(15,35, size=1))\n",
    "    a1 = numpy.random.uniform(1, 3.5, size=1)\n",
    "    a0 = numpy.random.uniform(-0.5,1, size=1)\n",
    "    av_c = (min_active + max_active)/2\n",
    "    offset = pr_to_spread(0.5, comps=av_c, as_A_and_D=False)\n",
    "    a0 = a0 + offset\n",
    "    test_w = numpy.random.uniform(0.5, 3.5)\n",
    "    print(\"{} FACTORS\".format(n_factors))\n",
    "    print(\"{} STUDENTS: {} {}\".format(n_students, a0, a1))\n",
    "    print(\"{} QUEST/NS: {}\".format(n_questions, test_w))\n",
    "    print(\"Offset\", offset)\n",
    "    print((n_students, n_questions, float(a0), float(a1), offset, test_w))\n",
    "    \n",
    "    obs, probz, students, questions  = gen_run(n_factors, a0, a1, min_active, max_active, s_gen=\"truncnorm\", q_gen=\"u_uniform\", test_w = test_w)\n",
    "\n",
    "    plt.hist(students.flatten(), alpha=0.5)\n",
    "    plt.hist(questions.flatten(), alpha=0.5)\n",
    "    plt.show()\n",
    "    plt.hist(probz.flatten(), bins=20)\n",
    "    plt.show()\n",
    "\n",
    "\n"
   ]
  },
  {
   "cell_type": "code",
   "execution_count": null,
   "metadata": {},
   "outputs": [],
   "source": []
  }
 ],
 "metadata": {
  "kernelspec": {
   "display_name": "Python 3",
   "language": "python",
   "name": "python3"
  },
  "language_info": {
   "codemirror_mode": {
    "name": "ipython",
    "version": 3
   },
   "file_extension": ".py",
   "mimetype": "text/x-python",
   "name": "python",
   "nbconvert_exporter": "python",
   "pygments_lexer": "ipython3",
   "version": "3.6.9"
  }
 },
 "nbformat": 4,
 "nbformat_minor": 2
}
