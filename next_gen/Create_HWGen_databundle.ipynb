{
 "cells": [
  {
   "cell_type": "code",
   "execution_count": 25,
   "metadata": {},
   "outputs": [
    {
     "name": "stdout",
     "output_type": "stream",
     "text": [
      "247\n",
      "246\n",
      "6559\n",
      "6554\n",
      "609\n",
      "608\n",
      "438\n",
      "435\n",
      "968\n",
      "964\n",
      "300\n",
      "294\n",
      "2825\n",
      "2824\n",
      "311\n",
      "310\n",
      "74\n",
      "72\n",
      "499\n",
      "496\n",
      "439\n",
      "438\n",
      "3069\n",
      "3067\n",
      "1699\n",
      "1692\n",
      "1221\n",
      "1220\n",
      "384\n",
      "383\n",
      "343\n",
      "342\n",
      "33\n",
      "23\n",
      "1385\n",
      "1382\n",
      "784\n",
      "783\n",
      "451\n",
      "450\n"
     ]
    }
   ],
   "source": [
    "import glob\n",
    "import pandas as pd\n",
    "import pickle\n",
    "home = \"/home/rjm49/git/hwgen/data_cache/\"\n",
    "\n",
    "gg = glob.glob(home+\"attempts_*.csv\")\n",
    "# print(gg)\n",
    "\n",
    "all_sz = []\n",
    "all_qz = []\n",
    "all_pfz= []\n",
    "for thing in gg:\n",
    "\n",
    "    this_df = pd.read_csv(thing)\n",
    "    if this_df.correct.isnull().sum()>0:\n",
    "        print(len(this_df))\n",
    "        this_df = this_df[~this_df.correct.isnull()]\n",
    "        print(len(this_df))\n",
    "#     print(this_df)\n",
    "    these_sz = this_df.user_id\n",
    "    these_qz = this_df.question_id\n",
    "    these_pfz = this_df.correct.astype(int)\n",
    "#     if these_pfz.isnull().values.any():\n",
    "#         n_null = these_pfz.isnull().sum()\n",
    "#         print(thing, n_null)\n",
    "#         print(these_pfz)\n",
    "    \n",
    "    all_sz.extend(these_sz)\n",
    "    all_qz.extend(these_qz)\n",
    "    all_pfz.extend(these_pfz)"
   ]
  },
  {
   "cell_type": "code",
   "execution_count": 26,
   "metadata": {},
   "outputs": [
    {
     "name": "stdout",
     "output_type": "stream",
     "text": [
      "11475685\n",
      "dumpage complete\n"
     ]
    }
   ],
   "source": [
    "# all_sz = df[\"s_id\"]\n",
    "# all_qz = df[\"pstep_id\"]\n",
    "# all_pfz = (df[\"Outcome\"]==\"CORRECT\").astype(int)\n",
    "\n",
    "# for s,q,pf in zip(all_sz, all_qz, all_pfz):\n",
    "#     print(s, q, pf)\n",
    "\n",
    "print(len(all_sz))\n",
    "\n",
    "pickle.dump((all_sz, all_qz, all_pfz), open(\"./real_data/isaac_hwgen.p\", \"wb\"))\n",
    "print(\"dumpage complete\")"
   ]
  }
 ],
 "metadata": {
  "kernelspec": {
   "display_name": "Python 3",
   "language": "python",
   "name": "python3"
  },
  "language_info": {
   "codemirror_mode": {
    "name": "ipython",
    "version": 3
   },
   "file_extension": ".py",
   "mimetype": "text/x-python",
   "name": "python",
   "nbconvert_exporter": "python",
   "pygments_lexer": "ipython3",
   "version": "3.6.9"
  }
 },
 "nbformat": 4,
 "nbformat_minor": 2
}
